{
  "cells": [
    {
      "cell_type": "markdown",
      "metadata": {
        "id": "view-in-github",
        "colab_type": "text"
      },
      "source": [
        "<a href=\"https://colab.research.google.com/github/mallelamanojkumar90/AIML/blob/main/Week2_Day1_Introduction_to_Pandas.ipynb\" target=\"_parent\"><img src=\"https://colab.research.google.com/assets/colab-badge.svg\" alt=\"Open In Colab\"/></a>"
      ]
    },
    {
      "cell_type": "markdown",
      "metadata": {
        "id": "D_2EtRIayq8B"
      },
      "source": [
        "# Week 2, Day 1: Introduction to Pandas - DataFrames and Data Cleaning\n",
        "\n",
        "## Learning Objectives\n",
        "- Understand Pandas DataFrame structure\n",
        "- Learn basic DataFrame operations\n",
        "- Master data cleaning techniques\n",
        "- Practice working with real data\n"
      ]
    },
    {
      "cell_type": "code",
      "execution_count": null,
      "metadata": {
        "id": "soTqmgxEyq8R"
      },
      "source": [
        "# Import required libraries\n",
        "import pandas as pd\n",
        "import numpy as np"
      ],
      "outputs": []
    },
    {
      "cell_type": "markdown",
      "metadata": {
        "id": "HUB50QbOyq8X"
      },
      "source": [
        "## 1. Introduction to DataFrames\n",
        "\n",
        "### Creating DataFrames\n",
        "- From dictionaries\n",
        "- From lists\n",
        "- From external files"
      ]
    },
    {
      "cell_type": "code",
      "execution_count": null,
      "metadata": {
        "id": "y59EXRojyq8a"
      },
      "source": [
        "# Creating DataFrames from different sources\n",
        "\n",
        "# From dictionary\n",
        "data_dict = {\n",
        "    'Name': ['John', 'Alice', 'Bob', 'Carol'],\n",
        "    'Age': [25, 30, 35, 28],\n",
        "    'City': ['New York', 'London', 'Paris', 'Tokyo']\n",
        "}\n",
        "df_dict = pd.DataFrame(data_dict)\n",
        "print(\"DataFrame from dictionary:\")\n",
        "print(df_dict)\n",
        "\n",
        "# From list of lists\n",
        "data_list = [\n",
        "    ['David', 32, 'Sydney'],\n",
        "    ['Emma', 27, 'Berlin'],\n",
        "    ['Frank', 31, 'Madrid']\n",
        "]\n",
        "df_list = pd.DataFrame(data_list, columns=['Name', 'Age', 'City'])\n",
        "print(\"\\nDataFrame from list:\")\n",
        "print(df_list)"
      ],
      "outputs": []
    },
    {
      "cell_type": "markdown",
      "metadata": {
        "id": "s2fhEAB0yq8c"
      },
      "source": [
        "## 2. Basic DataFrame Operations"
      ]
    },
    {
      "cell_type": "code",
      "execution_count": null,
      "metadata": {
        "id": "Nd8kRVj-yq8g"
      },
      "source": [
        "# Basic operations on DataFrame\n",
        "df = pd.concat([df_dict, df_list])\n",
        "\n",
        "# Viewing data\n",
        "print(\"First 3 rows:\")\n",
        "print(df.head(3))\n",
        "\n",
        "# Basic information\n",
        "print(\"\\nDataFrame Info:\")\n",
        "print(df.info())\n",
        "\n",
        "# Statistical summary\n",
        "print(\"\\nStatistical Summary:\")\n",
        "print(df.describe())\n",
        "\n",
        "# Accessing columns\n",
        "print(\"\\nNames:\")\n",
        "print(df['Name'])\n",
        "\n",
        "# Filtering data\n",
        "print(\"\\nPeople over 30:\")\n",
        "print(df[df['Age'] > 30])"
      ],
      "outputs": []
    },
    {
      "cell_type": "markdown",
      "metadata": {
        "id": "YJ2NqawJyq8h"
      },
      "source": [
        "## 3. Data Cleaning Techniques"
      ]
    },
    {
      "cell_type": "code",
      "execution_count": null,
      "metadata": {
        "id": "k-_FhzWYyq8k"
      },
      "source": [
        "# Create sample data with issues\n",
        "dirty_data = {\n",
        "    'Name': ['John', 'Alice', None, 'Bob', 'Carol'],\n",
        "    'Age': [25, -30, 35, 'unknown', 28],\n",
        "    'City': ['NEW YORK', 'london', 'Paris  ', ' Tokyo', None],\n",
        "    'Salary': ['50000', 60000, '75000', '80000', '65000']\n",
        "}\n",
        "df_dirty = pd.DataFrame(dirty_data)\n",
        "\n",
        "print(\"Original dirty data:\")\n",
        "print(df_dirty)\n",
        "\n",
        "# Cleaning operations\n",
        "def clean_data(df):\n",
        "    # Create a copy\n",
        "    df_clean = df.copy()\n",
        "\n",
        "    # Handle missing values\n",
        "    df_clean['Name'].fillna('Unknown', inplace=True)\n",
        "    df_clean['City'].fillna('Unknown', inplace=True)\n",
        "\n",
        "    # Clean City names\n",
        "    df_clean['City'] = df_clean['City'].str.strip().str.title()\n",
        "\n",
        "    # Convert Age to numeric, handling errors\n",
        "    df_clean['Age'] = pd.to_numeric(df_clean['Age'], errors='coerce')\n",
        "    df_clean['Age'] = df_clean['Age'].apply(lambda x: abs(x) if pd.notnull(x) else x)\n",
        "    df_clean['Age'].fillna(df_clean['Age'].mean(), inplace=True)\n",
        "\n",
        "    # Convert Salary to numeric\n",
        "    df_clean['Salary'] = pd.to_numeric(df_clean['Salary'])\n",
        "\n",
        "    return df_clean\n",
        "\n",
        "df_clean = clean_data(df_dirty)\n",
        "print(\"\\nCleaned data:\")\n",
        "print(df_clean)"
      ],
      "outputs": []
    },
    {
      "cell_type": "markdown",
      "metadata": {
        "id": "GFpHPIgpyq8m"
      },
      "source": [
        "## 4. Advanced DataFrame Operations"
      ]
    },
    {
      "cell_type": "code",
      "execution_count": null,
      "metadata": {
        "id": "xXGVuJkEyq8o"
      },
      "source": [
        "# Advanced operations\n",
        "\n",
        "# Grouping and aggregation\n",
        "print(\"Average salary by city:\")\n",
        "print(df_clean.groupby('City')['Salary'].mean())\n",
        "\n",
        "# Adding new columns\n",
        "df_clean['Salary_Category'] = pd.cut(df_clean['Salary'],\n",
        "                                    bins=[0, 55000, 70000, float('inf')],\n",
        "                                    labels=['Low', 'Medium', 'High'])\n",
        "\n",
        "# Pivot tables\n",
        "print(\"\\nPivot table - Average age by City and Salary Category:\")\n",
        "pivot_table = pd.pivot_table(df_clean,\n",
        "                            values='Age',\n",
        "                            index='City',\n",
        "                            columns='Salary_Category',\n",
        "                            aggfunc='mean')\n",
        "print(pivot_table)"
      ],
      "outputs": []
    },
    {
      "cell_type": "markdown",
      "metadata": {
        "id": "xMOJ7bMTyq8o"
      },
      "source": [
        "## Practical Exercises"
      ]
    },
    {
      "cell_type": "code",
      "execution_count": null,
      "metadata": {
        "id": "oeGE5duFyq8p"
      },
      "source": [
        "# Exercise 1: Employee Data Analysis\n",
        "\n",
        "# Create sample employee data\n",
        "employee_data = {\n",
        "    'Employee_ID': range(1, 11),\n",
        "    'Department': ['IT', 'HR', 'IT', 'Finance', 'HR', 'IT', 'Finance', 'HR', 'IT', 'Finance'],\n",
        "    'Salary': np.random.randint(40000, 100000, 10),\n",
        "    'Years_Experience': np.random.randint(1, 15, 10),\n",
        "    'Performance_Score': np.random.uniform(3.0, 5.0, 10).round(2)\n",
        "}\n",
        "\n",
        "df_employees = pd.DataFrame(employee_data)\n",
        "\n",
        "# Analysis tasks\n",
        "def analyze_employees(df):\n",
        "    print(\"Department-wise average salary:\")\n",
        "    print(df.groupby('Department')['Salary'].mean())\n",
        "\n",
        "    print(\"\\nCorrelation between experience and performance:\")\n",
        "    print(df['Years_Experience'].corr(df['Performance_Score']))\n",
        "\n",
        "    print(\"\\nTop 3 performers:\")\n",
        "    print(df.nlargest(3, 'Performance_Score')[['Employee_ID', 'Department', 'Performance_Score']])\n",
        "\n",
        "analyze_employees(df_employees)"
      ],
      "outputs": []
    },
    {
      "cell_type": "code",
      "execution_count": null,
      "metadata": {
        "id": "buvEOCYXyq8q"
      },
      "source": [
        "# Exercise 2: Data Cleaning Challenge\n",
        "\n",
        "# Create messy dataset\n",
        "messy_data = {\n",
        "    'Product_ID': ['A001', 'A002', 'A003', 'A004', 'A005'],\n",
        "    'Price': ['$100', '200', '$150.50', 'unknown', '$300'],\n",
        "    'Stock': ['10 units', '20', 'out_of_stock', '15 units', None],\n",
        "    'Category': ['Electronics ', ' Books', 'Electronics', ' Games ', 'Books']\n",
        "}\n",
        "\n",
        "df_messy = pd.DataFrame(messy_data)\n",
        "\n",
        "def clean_product_data(df):\n",
        "    # Your cleaning solution here\n",
        "    df_clean = df.copy()\n",
        "\n",
        "    # Clean Price\n",
        "    df_clean['Price'] = df_clean['Price'].str.replace('$', '').str.replace('unknown', 'NaN')\n",
        "    df_clean['Price'] = pd.to_numeric(df_clean['Price'], errors='coerce')\n",
        "\n",
        "    # Clean Stock\n",
        "    df_clean['Stock'] = df_clean['Stock'].str.extract('(\\d+)', expand=False)\n",
        "    df_clean['Stock'] = pd.to_numeric(df_clean['Stock'], errors='coerce')\n",
        "\n",
        "    # Clean Category\n",
        "    df_clean['Category'] = df_clean['Category'].str.strip()\n",
        "\n",
        "    return df_clean\n",
        "\n",
        "print(\"Original messy data:\")\n",
        "print(df_messy)\n",
        "print(\"\\nCleaned data:\")\n",
        "print(clean_product_data(df_messy))"
      ],
      "outputs": []
    },
    {
      "cell_type": "markdown",
      "metadata": {
        "id": "Q4oso3kUyq8r"
      },
      "source": [
        "## MCQ Quiz\n",
        "\n",
        "1. Which method is used to handle missing values in Pandas?\n",
        "   - a) remove()\n",
        "   - b) fillna()\n",
        "   - c) replace()\n",
        "   - d) clean()\n",
        "\n",
        "2. How do you select multiple columns in a DataFrame?\n",
        "   - a) df[['col1', 'col2']]\n",
        "   - b) df['col1', 'col2']\n",
        "   - c) df.select(['col1', 'col2'])\n",
        "   - d) df.columns(['col1', 'col2'])\n",
        "\n",
        "3. What does df.describe() show?\n",
        "   - a) Column names\n",
        "   - b) Statistical summary\n",
        "   - c) Missing values\n",
        "   - d) Data types\n",
        "\n",
        "4. Which method is used to combine two DataFrames vertically?\n",
        "   - a) merge()\n",
        "   - b) join()\n",
        "   - c) concat()\n",
        "   - d) append()\n",
        "\n",
        "5. How do you get the number of rows and columns in a DataFrame?\n",
        "   - a) df.size()\n",
        "   - b) df.shape\n",
        "   - c) df.length()\n",
        "   - d) df.dimensions\n",
        "\n",
        "6. Which method groups data in a DataFrame?\n",
        "   - a) group()\n",
        "   - b) groupby()\n",
        "   - c) aggregate()\n",
        "   - d) cluster()\n",
        "\n",
        "7. How do you remove duplicates from a DataFrame?\n",
        "   - a) remove_duplicates()\n",
        "   - b) drop_duplicates()\n",
        "   - c) clean_duplicates()\n",
        "   - d) delete_duplicates()\n",
        "\n",
        "8. What does df.head() show by default?\n",
        "   - a) First 3 rows\n",
        "   - b) First 5 rows\n",
        "   - c) First 10 rows\n",
        "   - d) First column\n",
        "\n",
        "9. How do you rename columns in a DataFrame?\n",
        "   - a) df.rename_columns()\n",
        "   - b) df.rename(columns={'old': 'new'})\n",
        "   - c) df.columns = ['new_names']\n",
        "   - d) df.change_names()\n",
        "\n",
        "10. Which method creates a pivot table?\n",
        "    - a) pivot()\n",
        "    - b) pivot_table()\n",
        "    - c) crosstab()\n",
        "    - d) table()\n",
        "\n",
        "Answers: 1-b, 2-a, 3-b, 4-c, 5-b, 6-b, 7-b, 8-b, 9-b, 10-b"
      ]
    }
  ],
  "metadata": {
    "kernelspec": {
      "display_name": "Python 3",
      "language": "python",
      "name": "python3"
    },
    "colab": {
      "provenance": [],
      "include_colab_link": true
    }
  },
  "nbformat": 4,
  "nbformat_minor": 0
}
{
  "cells": [
    {
      "cell_type": "markdown",
      "metadata": {
        "id": "view-in-github",
        "colab_type": "text"
      },
      "source": [
        "<a href=\"https://colab.research.google.com/github/mallelamanojkumar90/AIML/blob/main/Week1_Day6_Introduction_to_Numpy.ipynb\" target=\"_parent\"><img src=\"https://colab.research.google.com/assets/colab-badge.svg\" alt=\"Open In Colab\"/></a>"
      ]
    },
    {
      "cell_type": "markdown",
      "metadata": {
        "id": "DvSM2O3684SO"
      },
      "source": [
        "# Week 1, Day 6: Introduction to NumPy - Arrays and Operations\n",
        "\n",
        "## Learning Objectives\n",
        "- Understand NumPy arrays and their advantages\n",
        "- Learn array creation and manipulation\n",
        "- Master basic array operations\n",
        "- Practice NumPy mathematical functions\n"
      ]
    },
    {
      "cell_type": "code",
      "execution_count": null,
      "metadata": {
        "id": "wAD5kGJt84SP"
      },
      "source": [
        "# Import NumPy\n",
        "import numpy as np"
      ],
      "outputs": []
    },
    {
      "cell_type": "markdown",
      "metadata": {
        "id": "9_QTAzoc84SS"
      },
      "source": [
        "## 1. Creating NumPy Arrays\n",
        "\n",
        "### Different ways to create arrays:\n",
        "- From Python lists\n",
        "- Using NumPy functions\n",
        "- Special arrays (zeros, ones, identity)"
      ]
    },
    {
      "cell_type": "code",
      "execution_count": null,
      "metadata": {
        "id": "UDWXbLOp84ST"
      },
      "source": [
        "# Creating arrays\n",
        "# From list\n",
        "list_array = np.array([1, 2, 3, 4, 5])\n",
        "print(\"From list:\", list_array)\n",
        "\n",
        "# Using arange\n",
        "range_array = np.arange(0, 10, 2)  # Start, stop, step\n",
        "print(\"\\nUsing arange:\", range_array)\n",
        "\n",
        "# Using linspace\n",
        "linear_space = np.linspace(0, 1, 5)  # Start, stop, num of points\n",
        "print(\"\\nLinspace:\", linear_space)\n",
        "\n",
        "# Special arrays\n",
        "zeros = np.zeros(3)\n",
        "ones = np.ones((2, 2))\n",
        "identity = np.eye(3)\n",
        "\n",
        "print(\"\\nZeros:\", zeros)\n",
        "print(\"\\nOnes:\\n\", ones)\n",
        "print(\"\\nIdentity matrix:\\n\", identity)"
      ],
      "outputs": []
    },
    {
      "cell_type": "markdown",
      "metadata": {
        "id": "RykVdWyP84SV"
      },
      "source": [
        "## 2. Array Operations\n",
        "\n",
        "### Basic operations:\n",
        "- Arithmetic operations\n",
        "- Broadcasting\n",
        "- Element-wise operations"
      ]
    },
    {
      "cell_type": "code",
      "execution_count": null,
      "metadata": {
        "id": "J3xFTg4o84SX"
      },
      "source": [
        "# Array operations\n",
        "a = np.array([1, 2, 3])\n",
        "b = np.array([4, 5, 6])\n",
        "\n",
        "# Arithmetic operations\n",
        "print(\"Addition:\", a + b)\n",
        "print(\"Multiplication:\", a * b)\n",
        "print(\"Square:\", a ** 2)\n",
        "\n",
        "# Broadcasting\n",
        "print(\"\\nAdd scalar:\", a + 2)\n",
        "print(\"Multiply by scalar:\", a * 3)\n",
        "\n",
        "# Statistical operations\n",
        "print(\"\\nMean:\", np.mean(a))\n",
        "print(\"Sum:\", np.sum(a))\n",
        "print(\"Max:\", np.max(a))\n",
        "print(\"Min:\", np.min(a))"
      ],
      "outputs": []
    },
    {
      "cell_type": "markdown",
      "metadata": {
        "id": "nXCAe5l684SY"
      },
      "source": [
        "## 3. Array Manipulation\n",
        "\n",
        "### Reshaping and indexing:\n",
        "- Changing array shape\n",
        "- Indexing and slicing\n",
        "- Array concatenation"
      ]
    },
    {
      "cell_type": "code",
      "execution_count": null,
      "metadata": {
        "id": "nNmwmhF584SY"
      },
      "source": [
        "# Array manipulation\n",
        "arr = np.array([1, 2, 3, 4, 5, 6])\n",
        "\n",
        "# Reshaping\n",
        "reshaped = arr.reshape(2, 3)\n",
        "print(\"Reshaped array:\\n\", reshaped)\n",
        "\n",
        "# Indexing and slicing\n",
        "print(\"\\nFirst row:\", reshaped[0])\n",
        "print(\"Element at (1,1):\", reshaped[1,1])\n",
        "\n",
        "# Concatenation\n",
        "arr1 = np.array([[1, 2], [3, 4]])\n",
        "arr2 = np.array([[5, 6], [7, 8]])\n",
        "\n",
        "vertical = np.vstack((arr1, arr2))\n",
        "horizontal = np.hstack((arr1, arr2))\n",
        "\n",
        "print(\"\\nVertical stack:\\n\", vertical)\n",
        "print(\"\\nHorizontal stack:\\n\", horizontal)"
      ],
      "outputs": []
    },
    {
      "cell_type": "markdown",
      "metadata": {
        "id": "-Msf5CPk84SZ"
      },
      "source": [
        "## Practical Exercises"
      ]
    },
    {
      "cell_type": "code",
      "execution_count": null,
      "metadata": {
        "id": "0mZfogrz84SZ"
      },
      "source": [
        "# Exercise 1: Temperature Conversion\n",
        "def temperature_converter():\n",
        "    # Create array of Celsius temperatures\n",
        "    celsius = np.linspace(0, 100, 11)\n",
        "\n",
        "    # Convert to Fahrenheit: F = (C * 9/5) + 32\n",
        "    fahrenheit = (celsius * 9/5) + 32\n",
        "\n",
        "    # Create conversion table\n",
        "    print(\"Temperature Conversion Table:\")\n",
        "    print(\"Celsius  |  Fahrenheit\")\n",
        "    print(\"-\"*20)\n",
        "    for c, f in zip(celsius, fahrenheit):\n",
        "        print(f\"{c:7.1f}  |  {f:7.1f}\")\n",
        "\n",
        "temperature_converter()"
      ],
      "outputs": []
    },
    {
      "cell_type": "code",
      "execution_count": null,
      "metadata": {
        "id": "txB9kZKu84SZ"
      },
      "source": [
        "# Exercise 2: Matrix Operations\n",
        "def matrix_calculator():\n",
        "    # Create two 3x3 matrices\n",
        "    A = np.array([[1, 2, 3],\n",
        "                  [4, 5, 6],\n",
        "                  [7, 8, 9]])\n",
        "\n",
        "    B = np.array([[9, 8, 7],\n",
        "                  [6, 5, 4],\n",
        "                  [3, 2, 1]])\n",
        "\n",
        "    print(\"Matrix A:\\n\", A)\n",
        "    print(\"\\nMatrix B:\\n\", B)\n",
        "\n",
        "    # Matrix operations\n",
        "    print(\"\\nMatrix Addition:\\n\", A + B)\n",
        "    print(\"\\nMatrix Multiplication:\\n\", np.dot(A, B))\n",
        "    print(\"\\nMatrix A Transpose:\\n\", A.T)\n",
        "    print(\"\\nDeterminant of A:\", np.linalg.det(A))\n",
        "\n",
        "matrix_calculator()"
      ],
      "outputs": []
    },
    {
      "cell_type": "markdown",
      "metadata": {
        "id": "UQDHVd4k84Sb"
      },
      "source": [
        "## MCQ Quiz\n",
        "\n",
        "1. Which function creates an array of evenly spaced numbers?\n",
        "   - a) np.array()\n",
        "   - b) np.arange()\n",
        "   - c) np.zeros()\n",
        "   - d) np.ones()\n",
        "\n",
        "2. What is broadcasting in NumPy?\n",
        "   - a) Converting arrays to lists\n",
        "   - b) Automatic array shape manipulation for operations\n",
        "   - c) Broadcasting radio signals\n",
        "   - d) Printing array elements\n",
        "\n",
        "3. Which method creates an identity matrix?\n",
        "   - a) np.identity()\n",
        "   - b) np.eye()\n",
        "   - c) np.ones()\n",
        "   - d) np.diagonal()\n",
        "\n",
        "4. What is the shape of np.array([1, 2, 3, 4])?n   - a) (4,)\n",
        "   - b) (1, 4)\n",
        "   - c) (4, 1)\n",
        "   - d) (1, 1, 4)\n",
        "\n",
        "5. Which operation is element-wise?\n",
        "   - a) np.dot()\n",
        "   - b) np.multiply()\n",
        "   - c) np.matmul()\n",
        "   - d) np.cross()\n",
        "\n",
        "6. How do you find the number of dimensions in a NumPy array?\n",
        "   - a) array.dim()\n",
        "   - b) array.ndim\n",
        "   - c) array.dimensions\n",
        "   - d) array.shape()\n",
        "\n",
        "7. What does np.zeros(3) create?\n",
        "   - a) A 3x3 matrix of zeros\n",
        "   - b) An array of 3 zeros\n",
        "   - c) A 3x3x3 cube of zeros\n",
        "   - d) A single zero repeated 3 times\n",
        "\n",
        "8. Which method stacks arrays vertically?\n",
        "   - a) np.hstack()\n",
        "   - b) np.vstack()\n",
        "   - c) np.stack()\n",
        "   - d) np.append()\n",
        "\n",
        "9. What is the result of np.arange(0, 10, 2)?\n",
        "   - a) [0, 2, 4, 6, 8]\n",
        "   - b) [0, 2, 4, 6, 8, 10]\n",
        "   - c) [2, 4, 6, 8]\n",
        "   - d) [0, 1, 2, 3, 4]\n",
        "\n",
        "10. How do you transpose a matrix in NumPy?\n",
        "    - a) matrix.transpose()\n",
        "    - b) matrix.T\n",
        "    - c) Both a and b\n",
        "    - d) matrix.flip()\n",
        "\n",
        "Answers: 1-b, 2-b, 3-b, 4-a, 5-b, 6-b, 7-b, 8-b, 9-a, 10-c"
      ]
    }
  ],
  "metadata": {
    "kernelspec": {
      "display_name": "Python 3",
      "language": "python",
      "name": "python3"
    },
    "colab": {
      "provenance": [],
      "include_colab_link": true
    }
  },
  "nbformat": 4,
  "nbformat_minor": 0
}
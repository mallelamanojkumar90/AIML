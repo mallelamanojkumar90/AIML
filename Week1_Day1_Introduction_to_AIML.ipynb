{
  "cells": [
    {
      "cell_type": "markdown",
      "metadata": {
        "id": "view-in-github",
        "colab_type": "text"
      },
      "source": [
        "<a href=\"https://colab.research.google.com/github/mallelamanojkumar90/AIML/blob/main/Week1_Day1_Introduction_to_AIML.ipynb\" target=\"_parent\"><img src=\"https://colab.research.google.com/assets/colab-badge.svg\" alt=\"Open In Colab\"/></a>"
      ]
    },
    {
      "cell_type": "markdown",
      "metadata": {
        "id": "ESCs9QV-krCy"
      },
      "source": [
        "# Week 1, Day 1: Introduction to AI and ML Concepts\n",
        "\n",
        "## Learning Objectives\n",
        "- Understand the basic concepts of Artificial Intelligence\n",
        "- Differentiate between AI, ML, and Deep Learning\n",
        "- Learn about different types of Machine Learning\n",
        "- Understand real-world applications of AI/ML\n"
      ]
    },
    {
      "cell_type": "markdown",
      "metadata": {
        "id": "5nRbY8eakrCz"
      },
      "source": [
        "## 1. What is Artificial Intelligence?\n",
        "\n",
        "Artificial Intelligence (AI) is the simulation of human intelligence by machines. It includes:\n",
        "- Problem Solving\n",
        "- Pattern Recognition\n",
        "- Learning from Experience\n",
        "- Making Decisions\n",
        "\n",
        "### Types of AI:\n",
        "1. **Narrow AI (Weak AI)**: Designed for specific tasks\n",
        "2. **General AI (Strong AI)**: Capable of performing any intellectual task\n",
        "\n",
        "## 2. Machine Learning\n",
        "\n",
        "Machine Learning is a subset of AI that focuses on:\n",
        "- Learning from data\n",
        "- Identifying patterns\n",
        "- Making decisions with minimal human intervention\n",
        "\n",
        "### Types of Machine Learning:\n",
        "1. Supervised Learning\n",
        "2. Unsupervised Learning\n",
        "3. Reinforcement Learning\n"
      ]
    },
    {
      "cell_type": "markdown",
      "metadata": {
        "id": "F4jxIMB2krC0"
      },
      "source": [
        "## Practical Exercise 1: Exploring AI Tools\n",
        "\n",
        "Let's explore some popular AI tools and their applications."
      ]
    },
    {
      "cell_type": "code",
      "execution_count": null,
      "metadata": {
        "id": "I0KglyWBkrC1"
      },
      "source": [
        "# Dictionary of AI tools and their applications\n",
        "ai_tools = {\n",
        "    'ChatGPT': 'Natural Language Processing',\n",
        "    'Tesla Autopilot': 'Computer Vision & Autonomous Driving',\n",
        "    'Netflix Recommendations': 'Recommendation Systems',\n",
        "    'Gmail Spam Filter': 'Classification',\n",
        "    'Alexa': 'Speech Recognition'\n",
        "}\n",
        "\n",
        "# Print the AI tools and their applications\n",
        "for tool, application in ai_tools.items():\n",
        "    print(f\"{tool}: {application}\")"
      ],
      "outputs": []
    },
    {
      "cell_type": "markdown",
      "metadata": {
        "id": "Lk3BkwJ-krC2"
      },
      "source": [
        "## Practical Exercise 2: AI/ML Application Brainstorming\n",
        "\n",
        "Think about a real-world problem that could be solved using AI/ML and outline:\n",
        "1. The problem statement\n",
        "2. Type of ML approach needed\n",
        "3. Data requirements\n",
        "4. Expected outcomes"
      ]
    },
    {
      "cell_type": "markdown",
      "metadata": {
        "id": "XOY8BiV_krC2"
      },
      "source": [
        "## MCQ Quiz\n",
        "\n",
        "1. What is the main difference between AI and ML?\n",
        "   - a) AI is a subset of ML\n",
        "   - b) ML is a subset of AI\n",
        "   - c) They are completely different fields\n",
        "   - d) They are exactly the same\n",
        "   \n",
        "2. Which of the following is NOT a type of Machine Learning?\n",
        "   - a) Supervised Learning\n",
        "   - b) Unsupervised Learning\n",
        "   - c) Reinforcement Learning\n",
        "   - d) Mechanical Learning\n",
        "\n",
        "3. What type of AI is designed for specific tasks?\n",
        "   - a) General AI\n",
        "   - b) Narrow AI\n",
        "   - c) Super AI\n",
        "   - d) Meta AI\n",
        "\n",
        "4. Which of these is an example of supervised learning?\n",
        "   - a) Clustering customer groups\n",
        "   - b) Email spam detection\n",
        "   - c) Finding hidden patterns in data\n",
        "   - d) Playing a game to maximize score\n",
        "\n",
        "5. What is the primary goal of Machine Learning?\n",
        "   - a) To replace human workers\n",
        "   - b) To learn from data without explicit programming\n",
        "   - c) To create conscious machines\n",
        "   - d) To store large amounts of data\n",
        "\n",
        "6. Which field deals with making machines understand and process human language?\n",
        "   - a) Computer Vision\n",
        "   - b) Natural Language Processing\n",
        "   - c) Robotics\n",
        "   - d) Quantum Computing\n",
        "\n",
        "7. What is Deep Learning?\n",
        "   - a) A type of AI that doesn't use computers\n",
        "   - b) A subset of ML using neural networks with multiple layers\n",
        "   - c) The same as Machine Learning\n",
        "   - d) A type of data storage\n",
        "\n",
        "8. Which of these is NOT an application of AI?\n",
        "   - a) Virtual assistants\n",
        "   - b) Face recognition\n",
        "   - c) Traditional calculators\n",
        "   - d) Recommendation systems\n",
        "\n",
        "9. What type of learning involves rewards and penalties?\n",
        "   - a) Supervised Learning\n",
        "   - b) Unsupervised Learning\n",
        "   - c) Reinforcement Learning\n",
        "   - d) Transfer Learning\n",
        "\n",
        "10. Which statement best describes AI?\n",
        "    - a) A program that can access the internet\n",
        "    - b) A simulation of human intelligence by machines\n",
        "    - c) A type of computer hardware\n",
        "    - d) A programming language\n",
        "\n",
        "Answers: 1-b, 2-d, 3-b, 4-b, 5-b, 6-b, 7-b, 8-c, 9-c, 10-b"
      ]
    }
  ],
  "metadata": {
    "kernelspec": {
      "display_name": "Python 3",
      "language": "python",
      "name": "python3"
    },
    "colab": {
      "provenance": [],
      "include_colab_link": true
    }
  },
  "nbformat": 4,
  "nbformat_minor": 0
}
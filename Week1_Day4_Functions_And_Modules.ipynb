{
  "cells": [
    {
      "cell_type": "markdown",
      "metadata": {
        "id": "view-in-github",
        "colab_type": "text"
      },
      "source": [
        "<a href=\"https://colab.research.google.com/github/mallelamanojkumar90/AIML/blob/main/Week1_Day4_Functions_And_Modules.ipynb\" target=\"_parent\"><img src=\"https://colab.research.google.com/assets/colab-badge.svg\" alt=\"Open In Colab\"/></a>"
      ]
    },
    {
      "cell_type": "markdown",
      "metadata": {
        "id": "lif_7nJazU-9"
      },
      "source": [
        "# Week 1, Day 4: Functions and Modules in Python\n",
        "\n",
        "## Learning Objectives\n",
        "- Understand function definition and calling\n",
        "- Learn about function parameters and return values\n",
        "- Master function arguments (positional, keyword, default)\n",
        "- Understand Python modules and imports\n"
      ]
    },
    {
      "cell_type": "markdown",
      "metadata": {
        "id": "cjIiNtIEzU_B"
      },
      "source": [
        "## 1. Function Basics\n",
        "\n",
        "### Function Structure\n",
        "- Function definition using `def`\n",
        "- Parameters and arguments\n",
        "- Return values\n",
        "- Docstrings"
      ]
    },
    {
      "cell_type": "code",
      "execution_count": null,
      "metadata": {
        "colab": {
          "base_uri": "https://localhost:8080/"
        },
        "id": "Bw0Qc4sHzU_B",
        "outputId": "504acbe9-6b24-41a1-b211-d9bc51d8b1b8"
      },
      "source": [
        "# Basic function example\n",
        "def greet(name):\n",
        "    \"\"\"This function greets the person passed in as parameter\n",
        "    asdfs sdfgs dfd \"\"\"\n",
        "\n",
        "    return f\"Hello, {name}!\"\n",
        "\n",
        "# Function with multiple parameters\n",
        "def calculate_rectangle_area(length, width):\n",
        "    \"\"\"Calculate the area of a rectangle\"\"\"\n",
        "    return length * width\n",
        "\n",
        "# Test the functions\n",
        "print(greet(\"Alice\"))\n",
        "print(f\"Rectangle area: {calculate_rectangle_area(5, 3)}\")"
      ],
      "outputs": [
        {
          "output_type": "stream",
          "name": "stdout",
          "text": [
            "Hello, Alice!\n",
            "Rectangle area: 15\n"
          ]
        }
      ]
    },
    {
      "cell_type": "markdown",
      "metadata": {
        "id": "hMXJbMa2zU_C"
      },
      "source": [
        "## 2. Advanced Function Features\n",
        "\n",
        "### Types of Arguments\n",
        "- Positional arguments\n",
        "- Keyword arguments\n",
        "- Default parameters\n",
        "- *args and **kwargs"
      ]
    },
    {
      "cell_type": "code",
      "execution_count": null,
      "metadata": {
        "colab": {
          "base_uri": "https://localhost:8080/"
        },
        "id": "BQpNwpWzzU_D",
        "outputId": "e11cef99-44f0-456a-babd-a4cd76389d25"
      },
      "source": [
        "# Function with default parameters\n",
        "def power(base, exponent=2):\n",
        "    return base ** exponent\n",
        "\n",
        "# Function with *args\n",
        "def sum_all(*args):\n",
        "    return sum(args)\n",
        "\n",
        "# Function with **kwargs\n",
        "def print_info(**kwargs):\n",
        "    for key, value in kwargs.items():\n",
        "        print(f\"{key}: {value}\")\n",
        "\n",
        "# Test the functions\n",
        "print(f\"Square of 5: {power(5)}\")\n",
        "print(f\"5 to power 3: {power(5, 3)}\")\n",
        "print(f\"Sum of numbers: {sum_all(1, 2, 3, 4, 5)}\")\n",
        "print(\"\\nPerson Info:\")\n",
        "print_info(name=\"John\", age=30, city=\"New York\")"
      ],
      "outputs": [
        {
          "output_type": "stream",
          "name": "stdout",
          "text": [
            "Square of 5: 25\n",
            "5 to power 3: 125\n",
            "Sum of numbers: 15\n",
            "\n",
            "Person Info:\n",
            "name: John\n",
            "age: 30\n",
            "city: New York\n"
          ]
        }
      ]
    },
    {
      "cell_type": "markdown",
      "metadata": {
        "id": "zMbDExr4zU_D"
      },
      "source": [
        "## 3. Modules in Python\n",
        "\n",
        "### Working with Modules\n",
        "- Built-in modules\n",
        "- Importing modules\n",
        "- Creating custom modules"
      ]
    },
    {
      "cell_type": "code",
      "execution_count": null,
      "metadata": {
        "colab": {
          "base_uri": "https://localhost:8080/"
        },
        "id": "fKhWj9W6zU_D",
        "outputId": "c20d3a09-43bf-42ce-d9d8-779106b59636"
      },
      "source": [
        "# Using built-in modules\n",
        "import math\n",
        "import random\n",
        "from datetime import datetime\n",
        "\n",
        "# Using math module\n",
        "print(f\"Square root of 16: {math.sqrt(16)}\")\n",
        "print(f\"Value of pi: {math.pi}\")\n",
        "\n",
        "# Using random module\n",
        "print(f\"Random number between 1 and 10: {random.randint(1, 10)}\")\n",
        "\n",
        "# Using datetime\n",
        "print(f\"Current date and time: {datetime.now()}\")"
      ],
      "outputs": [
        {
          "output_type": "stream",
          "name": "stdout",
          "text": [
            "Square root of 16: 4.0\n",
            "Value of pi: 3.141592653589793\n",
            "Random number between 1 and 10: 1\n",
            "Current date and time: 2025-01-29 02:10:06.880845\n"
          ]
        }
      ]
    },
    {
      "cell_type": "markdown",
      "metadata": {
        "id": "fZRcnixszU_E"
      },
      "source": [
        "## Practical Exercises"
      ]
    },
    {
      "cell_type": "code",
      "execution_count": null,
      "metadata": {
        "id": "rrXsH-kMzU_E"
      },
      "source": [
        "# Exercise 1: Calculator Function\n",
        "def calculator(num1, num2, operation='add'):\n",
        "    \"\"\"Basic calculator function with multiple operations\"\"\"\n",
        "    operations = {\n",
        "        'add': lambda x, y: x + y,\n",
        "        'subtract': lambda x, y: x - y,\n",
        "        'multiply': lambda x, y: x * y,\n",
        "        'divide': lambda x, y: x / y if y != 0 else 'Error: Division by zero'\n",
        "    }\n",
        "    return operations.get(operation, lambda x, y: 'Invalid operation')(num1, num2)\n",
        "\n",
        "# Test calculator\n",
        "print(f\"Addition: {calculator(5, 3, 'add')}\")\n",
        "print(f\"Multiplication: {calculator(5, 3, 'multiply')}\")\n",
        "print(f\"Division: {calculator(6, 2, 'divide')}\")"
      ],
      "outputs": []
    },
    {
      "cell_type": "code",
      "execution_count": null,
      "metadata": {
        "id": "7RdemmVUzU_E"
      },
      "source": [
        "# Exercise 2: String Processor\n",
        "def string_processor(text, operations=['upper']):\n",
        "    \"\"\"Process string based on specified operations\"\"\"\n",
        "    result = text\n",
        "    for op in operations:\n",
        "        if op == 'upper':\n",
        "            result = result.upper()\n",
        "        elif op == 'lower':\n",
        "            result = result.lower()\n",
        "        elif op == 'capitalize':\n",
        "            result = result.capitalize()\n",
        "        elif op == 'reverse':\n",
        "            result = result[::-1]\n",
        "    return result\n",
        "\n",
        "# Test string processor\n",
        "text = \"Hello World\"\n",
        "print(f\"Original: {text}\")\n",
        "print(f\"Upper: {string_processor(text, ['upper'])}\")\n",
        "print(f\"Reverse: {string_processor(text, ['reverse'])}\")\n",
        "print(f\"Upper + Reverse: {string_processor(text, ['upper', 'reverse'])}\")"
      ],
      "outputs": []
    },
    {
      "cell_type": "markdown",
      "metadata": {
        "id": "WTNPhRbdzU_F"
      },
      "source": [
        "## MCQ Quiz\n",
        "\n",
        "1. What is the correct way to define a function in Python?\n",
        "   - a) function myFunc():\n",
        "   - b) def myFunc{}:\n",
        "   - c) def myFunc():\n",
        "   - d) func myFunc():\n",
        "\n",
        "2. What does *args allow in a function?\n",
        "   - a) Keyword arguments only\n",
        "   - b) Multiple return values\n",
        "   - c) Variable number of positional arguments\n",
        "   - d) Default parameters\n",
        "\n",
        "3. Which statement is used to return a value from a function?\n",
        "   - a) yield\n",
        "   - b) return\n",
        "   - c) break\n",
        "   - d) pass\n",
        "\n",
        "4. What happens if a function doesn't have a return statement?\n",
        "   - a) Syntax error\n",
        "   - b) Returns None\n",
        "   - c) Returns 0\n",
        "   - d) Returns False\n",
        "\n",
        "5. How do you import a specific function from a module?\n",
        "   - a) import module.function\n",
        "   - b) from module import function\n",
        "   - c) import function from module\n",
        "   - d) using module.function\n",
        "\n",
        "6. What is a docstring in Python?\n",
        "   - a) A type of import statement\n",
        "   - b) A documentation string at the start of a function\n",
        "   - c) A comment\n",
        "   - d) A string variable\n",
        "\n",
        "7. Which of these is not a built-in module in Python?\n",
        "   - a) math\n",
        "   - b) random\n",
        "   - c) datetime\n",
        "   - d) calculate\n",
        "\n",
        "8. What does **kwargs allow in a function?\n",
        "   - a) Multiple return values\n",
        "   - b) Variable number of keyword arguments\n",
        "   - c) Default parameters\n",
        "   - d) Function overloading\n",
        "\n",
        "9. How do you specify a default parameter in a function?\n",
        "   - a) def func(param: default)\n",
        "   - b) def func(param = default)\n",
        "   - c) def func(param -> default)\n",
        "   - d) def func(default: param)\n",
        "\n",
        "10. What is the scope of a variable defined inside a function?\n",
        "    - a) Global scope\n",
        "    - b) Module scope\n",
        "    - c) Local scope\n",
        "    - d) Class scope\n",
        "\n",
        "Answers: 1-c, 2-c, 3-b, 4-b, 5-b, 6-b, 7-d, 8-b, 9-b, 10-c"
      ]
    }
  ],
  "metadata": {
    "kernelspec": {
      "display_name": "Python 3",
      "language": "python",
      "name": "python3"
    },
    "colab": {
      "provenance": [],
      "include_colab_link": true
    }
  },
  "nbformat": 4,
  "nbformat_minor": 0
}
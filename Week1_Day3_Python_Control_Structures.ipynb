{
  "cells": [
    {
      "cell_type": "markdown",
      "metadata": {
        "id": "view-in-github",
        "colab_type": "text"
      },
      "source": [
        "<a href=\"https://colab.research.google.com/github/mallelamanojkumar90/AIML/blob/main/Week1_Day3_Python_Control_Structures.ipynb\" target=\"_parent\"><img src=\"https://colab.research.google.com/assets/colab-badge.svg\" alt=\"Open In Colab\"/></a>"
      ]
    },
    {
      "cell_type": "markdown",
      "metadata": {
        "id": "hh6sh6ahwzVz"
      },
      "source": [
        "# Week 1, Day 3: Python Control Structures - Loops and Conditionals\n",
        "\n",
        "## Learning Objectives\n",
        "- Understand conditional statements (if, elif, else)\n",
        "- Master different types of loops (for, while)\n",
        "- Learn about loop control statements (break, continue)\n",
        "- Practice implementing control structures\n"
      ]
    },
    {
      "cell_type": "markdown",
      "metadata": {
        "id": "GkeLma3EwzV2"
      },
      "source": [
        "## 1. Conditional Statements\n",
        "\n",
        "### if-elif-else Structure\n",
        "- `if`: Basic conditional\n",
        "- `elif`: Additional conditions\n",
        "- `else`: Default case"
      ]
    },
    {
      "cell_type": "code",
      "execution_count": null,
      "metadata": {
        "colab": {
          "base_uri": "https://localhost:8080/"
        },
        "id": "lSkllJnywzV3",
        "outputId": "70631a55-dab9-483d-f248-44cce30f9762"
      },
      "source": [
        "# Example of if-elif-else\n",
        "def grade_calculator(score):\n",
        "    if score >= 90:\n",
        "        return 'A'\n",
        "    elif score >= 80:\n",
        "        return 'B'\n",
        "    elif score >= 70:\n",
        "        return 'C'\n",
        "    elif score >= 60:\n",
        "        return 'D'\n",
        "    else:\n",
        "        return 'F'\n",
        "\n",
        "# Test the function\n",
        "scores = [95, 85, 75, 65, 55]\n",
        "for score in scores:\n",
        "    print(f\"Score: {score}, Grade: {grade_calculator(score)}\")"
      ],
      "outputs": [
        {
          "output_type": "stream",
          "name": "stdout",
          "text": [
            "Score: 95, Grade: A\n",
            "Score: 85, Grade: B\n",
            "Score: 75, Grade: C\n",
            "Score: 65, Grade: D\n",
            "Score: 55, Grade: F\n"
          ]
        }
      ]
    },
    {
      "cell_type": "markdown",
      "metadata": {
        "id": "zkQSqhgnwzV4"
      },
      "source": [
        "## 2. For Loops\n",
        "\n",
        "### Types of For Loops\n",
        "- Iterating over sequences (lists, tuples, strings)\n",
        "- Using range()\n",
        "- Loop with enumerate()"
      ]
    },
    {
      "cell_type": "code",
      "execution_count": null,
      "metadata": {
        "colab": {
          "base_uri": "https://localhost:8080/"
        },
        "id": "4MUfWHjDwzV4",
        "outputId": "000b1d28-aed1-4f51-c22c-bb1994e6a833"
      },
      "source": [
        "# Different types of for loops\n",
        "\n",
        "# Loop through a list\n",
        "fruits = ['apple', 'banana', 'orange']\n",
        "print(\"Looping through list:\")\n",
        "for fruit in fruits:\n",
        "    print(fruit)\n",
        "\n",
        "# Loop using range\n",
        "print(\"\\nLooping with range:\")\n",
        "for i in range(3):\n",
        "    print(f\"Number: {i}\")\n",
        "\n",
        "# Loop with enumerate\n",
        "print(\"\\nLooping with enumerate:\")\n",
        "for index, fruit in enumerate(fruits):\n",
        "    print(f\"Index {index}: {fruit}\")"
      ],
      "outputs": [
        {
          "output_type": "stream",
          "name": "stdout",
          "text": [
            "Looping through list:\n",
            "apple\n",
            "banana\n",
            "orange\n",
            "\n",
            "Looping with range:\n",
            "Number: 0\n",
            "Number: 1\n",
            "Number: 2\n",
            "\n",
            "Looping with enumerate:\n",
            "Index 0: apple\n",
            "Index 1: banana\n",
            "Index 2: orange\n"
          ]
        }
      ]
    },
    {
      "cell_type": "markdown",
      "metadata": {
        "id": "P0s2OaUBwzV5"
      },
      "source": [
        "## 3. While Loops\n",
        "\n",
        "### While Loop Structure\n",
        "- Condition-based iteration\n",
        "- Loop control with break and continue"
      ]
    },
    {
      "cell_type": "code",
      "execution_count": null,
      "metadata": {
        "colab": {
          "base_uri": "https://localhost:8080/"
        },
        "id": "OL0N7AV6wzV5",
        "outputId": "f86c7d44-f231-464e-ef9a-47637b846826"
      },
      "source": [
        "# While loop examples\n",
        "\n",
        "# Basic while loop\n",
        "print(\"Countdown:\")\n",
        "count = 5\n",
        "while count > 0:\n",
        "    print(count)\n",
        "    count -= 1\n",
        "\n",
        "# While loop with break\n",
        "print(\"\\nWhile with break:\")\n",
        "num = 0\n",
        "while True:\n",
        "    if num >= 5:\n",
        "        break\n",
        "    print(num)\n",
        "    num += 1"
      ],
      "outputs": [
        {
          "output_type": "stream",
          "name": "stdout",
          "text": [
            "Countdown:\n",
            "5\n",
            "4\n",
            "3\n",
            "2\n",
            "1\n",
            "\n",
            "While with break:\n",
            "0\n",
            "1\n",
            "2\n",
            "3\n",
            "4\n"
          ]
        }
      ]
    },
    {
      "cell_type": "markdown",
      "metadata": {
        "id": "1FUOihV9wzV5"
      },
      "source": [
        "## Practical Exercises"
      ]
    },
    {
      "cell_type": "code",
      "execution_count": null,
      "metadata": {
        "colab": {
          "base_uri": "https://localhost:8080/"
        },
        "id": "fMfpT9GPwzV6",
        "outputId": "4d9eacec-face-45fc-8a7d-fe1c29259357"
      },
      "source": [
        "# Exercise 1: FizzBuzz\n",
        "def fizzbuzz(n):\n",
        "    for i in range(1, n+1):\n",
        "        if i % 3 == 0 and i % 5 == 0:\n",
        "            print(\"FizzBuzz\")\n",
        "        elif i % 3 == 0:\n",
        "            print(\"Fizz\")\n",
        "        elif i % 5 == 0:\n",
        "            print(\"Buzz\")\n",
        "        else:\n",
        "            print(i)\n",
        "\n",
        "# Test FizzBuzz\n",
        "print(\"FizzBuzz up to 15:\")\n",
        "fizzbuzz(15)"
      ],
      "outputs": [
        {
          "output_type": "stream",
          "name": "stdout",
          "text": [
            "FizzBuzz up to 15:\n",
            "1\n",
            "2\n",
            "Fizz\n",
            "4\n",
            "Buzz\n",
            "Fizz\n",
            "7\n",
            "8\n",
            "Fizz\n",
            "Buzz\n",
            "11\n",
            "Fizz\n",
            "13\n",
            "14\n",
            "FizzBuzz\n"
          ]
        }
      ]
    },
    {
      "cell_type": "code",
      "execution_count": null,
      "metadata": {
        "id": "6Ekc38GawzV6"
      },
      "source": [
        "# Exercise 2: Pattern Printing\n",
        "def print_pattern(rows):\n",
        "    for i in range(rows):\n",
        "        for j in range(i+1):\n",
        "            print(\"*\", end=\" \")\n",
        "        print()\n",
        "\n",
        "# Test pattern printing\n",
        "print(\"Pattern with 5 rows:\")\n",
        "print_pattern(5)"
      ],
      "outputs": []
    },
    {
      "cell_type": "markdown",
      "metadata": {
        "id": "d1JZ1vY-wzV6"
      },
      "source": [
        "## MCQ Quiz\n",
        "\n",
        "1. Which of these is not a valid loop in Python?\n",
        "   - a) for\n",
        "   - b) while\n",
        "   - c) do-while\n",
        "   - d) foreach\n",
        "\n",
        "2. What will be the output of: for i in range(3): print(i)\n",
        "   - a) 1, 2, 3\n",
        "   - b) 0, 1, 2\n",
        "   - c) 1, 2\n",
        "   - d) 0, 1, 2, 3\n",
        "\n",
        "3. Which statement is used to skip the rest of the current loop iteration?\n",
        "   - a) break\n",
        "   - b) pass\n",
        "   - c) continue\n",
        "   - d) return\n",
        "\n",
        "4. What is the purpose of 'else' in a for loop?\n",
        "   - a) It executes when the loop completes normally\n",
        "   - b) It executes when the loop is broken\n",
        "   - c) It executes after each iteration\n",
        "   - d) It's not valid in a for loop\n",
        "\n",
        "5. How many times will this loop run: while i < 5: print(i)\n",
        "   - a) 5 times\n",
        "   - b) 4 times\n",
        "   - c) Infinite times\n",
        "   - d) 0 times\n",
        "\n",
        "6. What does the enumerate() function do?\n",
        "   - a) Counts elements in a sequence\n",
        "   - b) Returns both index and value\n",
        "   - c) Only returns indices\n",
        "   - d) Sorts the sequence\n",
        "\n",
        "7. Which is the correct indentation for an if statement block?\n",
        "   - a) No indentation needed\n",
        "   - b) 4 spaces or 1 tab\n",
        "   - c) 2 spaces\n",
        "   - d) 8 spaces\n",
        "\n",
        "8. What happens if a while loop's condition is always True?\n",
        "   - a) The loop runs once\n",
        "   - b) The loop never runs\n",
        "   - c) The loop runs infinitely\n",
        "   - d) Syntax error\n",
        "\n",
        "9. Which statement exits a loop completely?\n",
        "   - a) continue\n",
        "   - b) pass\n",
        "   - c) break\n",
        "   - d) return\n",
        "\n",
        "10. What is the output of: for i in range(2, 5)?\n",
        "    - a) 2, 3, 4, 5\n",
        "    - b) 2, 3, 4\n",
        "    - c) 3, 4, 5\n",
        "    - d) 2, 3\n",
        "\n",
        "Answers: 1-c, 2-b, 3-c, 4-a, 5-c, 6-b, 7-b, 8-c, 9-c, 10-b"
      ]
    }
  ],
  "metadata": {
    "kernelspec": {
      "display_name": "Python 3",
      "language": "python",
      "name": "python3"
    },
    "colab": {
      "provenance": [],
      "include_colab_link": true
    }
  },
  "nbformat": 4,
  "nbformat_minor": 0
}
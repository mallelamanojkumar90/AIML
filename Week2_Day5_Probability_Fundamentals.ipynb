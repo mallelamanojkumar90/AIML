{
  "cells": [
    {
      "cell_type": "markdown",
      "metadata": {
        "id": "view-in-github",
        "colab_type": "text"
      },
      "source": [
        "<a href=\"https://colab.research.google.com/github/mallelamanojkumar90/AIML/blob/main/Week2_Day5_Probability_Fundamentals.ipynb\" target=\"_parent\"><img src=\"https://colab.research.google.com/assets/colab-badge.svg\" alt=\"Open In Colab\"/></a>"
      ]
    },
    {
      "cell_type": "markdown",
      "metadata": {
        "id": "v36U4voe1Bld"
      },
      "source": [
        "# Week 2, Day 5: Probability Fundamentals\n",
        "\n",
        "## Learning Objectives\n",
        "- Understand basic probability concepts\n",
        "- Learn probability distributions\n",
        "- Master Bayes' Theorem\n",
        "- Apply probability concepts in ML context\n"
      ]
    },
    {
      "cell_type": "code",
      "execution_count": null,
      "metadata": {
        "id": "CAJnfpg81Blg"
      },
      "source": [
        "# Import required libraries\n",
        "import numpy as np\n",
        "import pandas as pd\n",
        "import matplotlib.pyplot as plt\n",
        "import seaborn as sns\n",
        "from scipy import stats"
      ],
      "outputs": []
    },
    {
      "cell_type": "markdown",
      "metadata": {
        "id": "Eua1MlRy1Blm"
      },
      "source": [
        "## 1. Basic Probability Concepts"
      ]
    },
    {
      "cell_type": "code",
      "execution_count": null,
      "metadata": {
        "id": "qkDWKi9I1Blo"
      },
      "source": [
        "def coin_flip_simulation(n_flips=1000):\n",
        "    \"\"\"Simulate coin flips and demonstrate probability\"\"\"\n",
        "    # Simulate coin flips\n",
        "    flips = np.random.choice(['Heads', 'Tails'], size=n_flips)\n",
        "\n",
        "    # Calculate probabilities\n",
        "    prob_heads = np.mean(flips == 'Heads')\n",
        "    prob_tails = np.mean(flips == 'Tails')\n",
        "\n",
        "    print(f\"Probability of Heads: {prob_heads:.3f}\")\n",
        "    print(f\"Probability of Tails: {prob_tails:.3f}\")\n",
        "\n",
        "    # Plot convergence to 0.5\n",
        "    cumulative_prob = np.cumsum(flips == 'Heads') / np.arange(1, n_flips + 1)\n",
        "\n",
        "    plt.figure(figsize=(10, 5))\n",
        "    plt.plot(cumulative_prob)\n",
        "    plt.axhline(y=0.5, color='r', linestyle='--')\n",
        "    plt.title('Convergence of Coin Flip Probability')\n",
        "    plt.xlabel('Number of Flips')\n",
        "    plt.ylabel('Probability of Heads')\n",
        "    plt.show()\n",
        "\n",
        "coin_flip_simulation()"
      ],
      "outputs": []
    },
    {
      "cell_type": "markdown",
      "metadata": {
        "id": "kR8jKG-F1Blp"
      },
      "source": [
        "## 2. Probability Distributions"
      ]
    },
    {
      "cell_type": "code",
      "execution_count": null,
      "metadata": {
        "id": "GFAKzaPO1Blr"
      },
      "source": [
        "def demonstrate_distributions():\n",
        "    \"\"\"Demonstrate common probability distributions\"\"\"\n",
        "    np.random.seed(42)\n",
        "\n",
        "    # Generate data\n",
        "    normal = np.random.normal(loc=0, scale=1, size=1000)\n",
        "    binomial = np.random.binomial(n=10, p=0.5, size=1000)\n",
        "    poisson = np.random.poisson(lam=3, size=1000)\n",
        "\n",
        "    # Plot distributions\n",
        "    fig, (ax1, ax2, ax3) = plt.subplots(1, 3, figsize=(15, 5))\n",
        "\n",
        "    # Normal distribution\n",
        "    sns.histplot(normal, kde=True, ax=ax1)\n",
        "    ax1.set_title('Normal Distribution')\n",
        "\n",
        "    # Binomial distribution\n",
        "    sns.histplot(binomial, discrete=True, ax=ax2)\n",
        "    ax2.set_title('Binomial Distribution')\n",
        "\n",
        "    # Poisson distribution\n",
        "    sns.histplot(poisson, discrete=True, ax=ax3)\n",
        "    ax3.set_title('Poisson Distribution')\n",
        "\n",
        "    plt.tight_layout()\n",
        "    plt.show()\n",
        "\n",
        "    # Print summary statistics\n",
        "    distributions = {'Normal': normal, 'Binomial': binomial, 'Poisson': poisson}\n",
        "    for name, dist in distributions.items():\n",
        "        print(f\"\\n{name} Distribution:\")\n",
        "        print(f\"Mean: {np.mean(dist):.3f}\")\n",
        "        print(f\"Variance: {np.var(dist):.3f}\")\n",
        "\n",
        "demonstrate_distributions()"
      ],
      "outputs": []
    },
    {
      "cell_type": "markdown",
      "metadata": {
        "id": "jZm63Yt81Bls"
      },
      "source": [
        "## 3. Bayes' Theorem"
      ]
    },
    {
      "cell_type": "code",
      "execution_count": null,
      "metadata": {
        "id": "myItM47A1Blu"
      },
      "source": [
        "def demonstrate_bayes_theorem():\n",
        "    \"\"\"Demonstrate Bayes' Theorem with a medical test example\"\"\"\n",
        "\n",
        "    # Example: Disease testing\n",
        "    # Prior probability of having the disease\n",
        "    P_disease = 0.01  # 1% of population has the disease\n",
        "\n",
        "    # Test accuracy\n",
        "    P_positive_given_disease = 0.95    # Sensitivity\n",
        "    P_negative_given_healthy = 0.90    # Specificity\n",
        "\n",
        "    # Calculate P(positive_test)\n",
        "    P_positive = (P_positive_given_disease * P_disease +\n",
        "                 (1 - P_negative_given_healthy) * (1 - P_disease))\n",
        "\n",
        "    # Calculate P(disease|positive) using Bayes' Theorem\n",
        "    P_disease_given_positive = (P_positive_given_disease * P_disease) / P_positive\n",
        "\n",
        "    print(\"Medical Test Example:\")\n",
        "    print(f\"Probability of having disease: {P_disease:.1%}\")\n",
        "    print(f\"Test sensitivity: {P_positive_given_disease:.1%}\")\n",
        "    print(f\"Test specificity: {P_negative_given_healthy:.1%}\")\n",
        "    print(f\"\\nIf test is positive, probability of having disease: {P_disease_given_positive:.1%}\")\n",
        "\n",
        "    # Visualize with a tree diagram\n",
        "    plt.figure(figsize=(12, 6))\n",
        "    plt.axis('off')\n",
        "\n",
        "    # Draw tree structure\n",
        "    plt.text(0.1, 0.8, f'Disease\\n{P_disease:.1%}', ha='center')\n",
        "    plt.text(0.1, 0.2, f'No Disease\\n{1-P_disease:.1%}', ha='center')\n",
        "\n",
        "    plt.text(0.5, 0.9, f'Test +ve\\n{P_positive_given_disease:.1%}', ha='center')\n",
        "    plt.text(0.5, 0.7, f'Test -ve\\n{1-P_positive_given_disease:.1%}', ha='center')\n",
        "    plt.text(0.5, 0.3, f'Test +ve\\n{1-P_negative_given_healthy:.1%}', ha='center')\n",
        "    plt.text(0.5, 0.1, f'Test -ve\\n{P_negative_given_healthy:.1%}', ha='center')\n",
        "\n",
        "    # Draw lines\n",
        "    plt.plot([0.15, 0.45], [0.8, 0.9], 'k-')\n",
        "    plt.plot([0.15, 0.45], [0.8, 0.7], 'k-')\n",
        "    plt.plot([0.15, 0.45], [0.2, 0.3], 'k-')\n",
        "    plt.plot([0.15, 0.45], [0.2, 0.1], 'k-')\n",
        "\n",
        "    plt.title(\"Probability Tree Diagram\")\n",
        "    plt.show()\n",
        "\n",
        "demonstrate_bayes_theorem()"
      ],
      "outputs": []
    },
    {
      "cell_type": "markdown",
      "metadata": {
        "id": "tBx-epUb1Blw"
      },
      "source": [
        "## 4. Probability in Machine Learning"
      ]
    },
    {
      "cell_type": "code",
      "execution_count": null,
      "metadata": {
        "id": "8qEagG0g1Blx"
      },
      "source": [
        "def demonstrate_ml_probability():\n",
        "    \"\"\"Demonstrate probability concepts in ML context\"\"\"\n",
        "\n",
        "    # Generate synthetic classification data\n",
        "    np.random.seed(42)\n",
        "    n_samples = 1000\n",
        "\n",
        "    # Feature (e.g., email length)\n",
        "    spam_length = np.random.normal(100, 20, n_samples // 2)\n",
        "    ham_length = np.random.normal(50, 15, n_samples // 2)\n",
        "\n",
        "    # Labels\n",
        "    labels = np.array(['spam'] * (n_samples // 2) + ['ham'] * (n_samples // 2))\n",
        "    lengths = np.concatenate([spam_length, ham_length])\n",
        "\n",
        "    # Plot distributions\n",
        "    plt.figure(figsize=(10, 5))\n",
        "    sns.kdeplot(data=pd.DataFrame({'length': lengths, 'type': labels}),\n",
        "                x='length', hue='type')\n",
        "    plt.title('Email Length Distribution by Type')\n",
        "    plt.xlabel('Email Length')\n",
        "    plt.ylabel('Density')\n",
        "    plt.show()\n",
        "\n",
        "    # Calculate probabilities\n",
        "    def calculate_probability(x, mean, std):\n",
        "        return stats.norm.pdf(x, mean, std)\n",
        "\n",
        "    # Example email length\n",
        "    test_length = 80\n",
        "\n",
        "    p_spam = calculate_probability(test_length, np.mean(spam_length), np.std(spam_length))\n",
        "    p_ham = calculate_probability(test_length, np.mean(ham_length), np.std(ham_length))\n",
        "\n",
        "    print(f\"\\nFor an email of length {test_length}:\")\n",
        "    print(f\"P(length|spam): {p_spam:.4f}\")\n",
        "    print(f\"P(length|ham): {p_ham:.4f}\")\n",
        "    print(f\"Likelihood ratio (spam/ham): {p_spam/p_ham:.4f}\")\n",
        "\n",
        "demonstrate_ml_probability()"
      ],
      "outputs": []
    },
    {
      "cell_type": "markdown",
      "metadata": {
        "id": "4IItgIJO1Bly"
      },
      "source": [
        "## Practical Exercises"
      ]
    },
    {
      "cell_type": "code",
      "execution_count": null,
      "metadata": {
        "id": "X7CrrwH11Blz"
      },
      "source": [
        "# Exercise 1: Spam Filter Probability\n",
        "\n",
        "def spam_filter_exercise():\n",
        "    # Create synthetic email data\n",
        "    np.random.seed(42)\n",
        "    n_emails = 1000\n",
        "\n",
        "    # Features\n",
        "    contains_urgent = np.random.binomial(1, 0.7, n_emails)  # 1 if contains \"urgent\"\n",
        "    contains_money = np.random.binomial(1, 0.6, n_emails)   # 1 if contains \"money\"\n",
        "\n",
        "    # Generate labels (spam/ham)\n",
        "    is_spam = (contains_urgent & contains_money) | \\\n",
        "              (np.random.random(n_emails) < 0.2)  # Some random noise\n",
        "\n",
        "    # Calculate probabilities\n",
        "    p_spam = np.mean(is_spam)\n",
        "    p_urgent_given_spam = np.mean(contains_urgent[is_spam])\n",
        "    p_money_given_spam = np.mean(contains_money[is_spam])\n",
        "\n",
        "    print(\"Email Classification Probabilities:\")\n",
        "    print(f\"P(spam): {p_spam:.3f}\")\n",
        "    print(f\"P(urgent|spam): {p_urgent_given_spam:.3f}\")\n",
        "    print(f\"P(money|spam): {p_money_given_spam:.3f}\")\n",
        "\n",
        "    # Visualize relationships\n",
        "    plt.figure(figsize=(10, 5))\n",
        "\n",
        "    # Create contingency table\n",
        "    contingency = pd.crosstab(contains_urgent, contains_money)\n",
        "\n",
        "    sns.heatmap(contingency, annot=True, fmt='d', cmap='YlOrRd')\n",
        "    plt.title('Relationship between \"urgent\" and \"money\" keywords')\n",
        "    plt.xlabel('Contains \"money\"')\n",
        "    plt.ylabel('Contains \"urgent\"')\n",
        "    plt.show()\n",
        "\n",
        "spam_filter_exercise()"
      ],
      "outputs": []
    },
    {
      "cell_type": "code",
      "execution_count": null,
      "metadata": {
        "id": "WvRJIcrI1Blz"
      },
      "source": [
        "# Exercise 2: Customer Purchase Probability\n",
        "\n",
        "def customer_purchase_exercise():\n",
        "    # Generate customer data\n",
        "    np.random.seed(42)\n",
        "    n_customers = 1000\n",
        "\n",
        "    # Customer features\n",
        "    age = np.random.normal(35, 10, n_customers)\n",
        "    income = np.random.normal(50000, 20000, n_customers)\n",
        "\n",
        "    # Generate purchase probability based on age and income\n",
        "    purchase_prob = stats.norm.cdf(age, 35, 10) * stats.norm.cdf(income, 50000, 20000)\n",
        "    purchased = np.random.binomial(1, purchase_prob)\n",
        "\n",
        "    # Create DataFrame\n",
        "    customer_data = pd.DataFrame({\n",
        "        'Age': age,\n",
        "        'Income': income,\n",
        "        'Purchased': purchased\n",
        "    })\n",
        "\n",
        "    # Calculate probabilities\n",
        "    p_purchase = np.mean(purchased)\n",
        "\n",
        "    print(\"Customer Purchase Analysis:\")\n",
        "    print(f\"Overall purchase probability: {p_purchase:.3f}\")\n",
        "\n",
        "    # Visualize purchase probability by age and income\n",
        "    plt.figure(figsize=(12, 5))\n",
        "\n",
        "    plt.subplot(121)\n",
        "    sns.boxplot(data=customer_data, x='Purchased', y='Age')\n",
        "    plt.title('Age Distribution by Purchase Decision')\n",
        "\n",
        "    plt.subplot(122)\n",
        "    sns.boxplot(data=customer_data, x='Purchased', y='Income')\n",
        "    plt.title('Income Distribution by Purchase Decision')\n",
        "\n",
        "    plt.tight_layout()\n",
        "    plt.show()\n",
        "\n",
        "customer_purchase_exercise()"
      ],
      "outputs": []
    },
    {
      "cell_type": "markdown",
      "metadata": {
        "id": "1mobc8th1Bl6"
      },
      "source": [
        "## MCQ Quiz\n",
        "\n",
        "1. What is the sum of probabilities for all possible outcomes in a sample space?\n",
        "   - a) 0\n",
        "   - b) 0.5\n",
        "   - c) 1\n",
        "   - d) 100\n",
        "\n",
        "2. Which probability distribution is symmetric and bell-shaped?\n",
        "   - a) Uniform\n",
        "   - b) Normal\n",
        "   - c) Exponential\n",
        "   - d) Poisson\n",
        "\n",
        "3. What does Bayes' Theorem calculate?\n",
        "   - a) Joint probability\n",
        "   - b) Conditional probability\n",
        "   - c) Marginal probability\n",
        "   - d) Independent probability\n",
        "\n",
        "4. In a binomial distribution, what must be true about each trial?\n",
        "   - a) Continuous outcomes\n",
        "   - b) Independent events\n",
        "   - c) Variable probability\n",
        "   - d) Dependent events\n",
        "\n",
        "5. What is the probability of getting heads OR tails in a fair coin flip?\n",
        "   - a) 0.5\n",
        "   - b) 1.0\n",
        "   - c) 0\n",
        "   - d) 2.0\n",
        "\n",
        "6. Which term describes the probability of A given that B has occurred?\n",
        "   - a) Joint probability\n",
        "   - b) Conditional probability\n",
        "   - c) Independent probability\n",
        "   - d) Marginal probability\n",
        "\n",
        "7. What is the expected value of a fair six-sided die roll?\n",
        "   - a) 3\n",
        "   - b) 3.5\n",
        "   - c) 6\n",
        "   - d) 7\n",
        "\n",
        "8. In machine learning, what does the likelihood function measure?\n",
        "   - a) Model accuracy\n",
        "   - b) Probability of data given parameters\n",
        "   - c) Error rate\n",
        "   - d) Feature importance\n",
        "\n",
        "9. What is the variance of a constant?\n",
        "   - a) 1\n",
        "   - b) The constant value\n",
        "   - c) 0\n",
        "   - d) Undefined\n",
        "\n",
        "10. Which probability concept is most relevant to Naive Bayes classification?\n",
        "    - a) Central Limit Theorem\n",
        "    - b) Law of Large Numbers\n",
        "    - c) Conditional Independence\n",
        "    - d) Joint Distribution\n",
        "\n",
        "Answers: 1-c, 2-b, 3-b, 4-b, 5-b, 6-b, 7-b, 8-b, 9-c, 10-c"
      ]
    }
  ],
  "metadata": {
    "kernelspec": {
      "display_name": "Python 3",
      "language": "python",
      "name": "python3"
    },
    "colab": {
      "provenance": [],
      "include_colab_link": true
    }
  },
  "nbformat": 4,
  "nbformat_minor": 0
}
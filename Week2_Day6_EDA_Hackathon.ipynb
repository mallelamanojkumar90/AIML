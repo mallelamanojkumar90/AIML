{
  "cells": [
    {
      "cell_type": "markdown",
      "metadata": {
        "id": "view-in-github",
        "colab_type": "text"
      },
      "source": [
        "<a href=\"https://colab.research.google.com/github/mallelamanojkumar90/AIML/blob/main/Week2_Day6_EDA_Hackathon.ipynb\" target=\"_parent\"><img src=\"https://colab.research.google.com/assets/colab-badge.svg\" alt=\"Open In Colab\"/></a>"
      ]
    },
    {
      "cell_type": "markdown",
      "metadata": {
        "id": "ByrI7m4V1gAL"
      },
      "source": [
        "# Week 2, Day 6: Hackathon Challenge - Exploratory Data Analysis\n",
        "\n",
        "## Challenge Overview\n",
        "In this hackathon, you will perform a comprehensive exploratory data analysis on a real-world dataset. You'll apply the concepts learned throughout Week 2:\n",
        "- Data cleaning and preprocessing\n",
        "- Statistical analysis\n",
        "- Data visualization\n",
        "- Probability distributions\n",
        "- Insight generation\n",
        "\n",
        "## Dataset: E-commerce Customer Behavior\n",
        "We'll analyze an e-commerce dataset containing customer behavior and purchase information."
      ]
    },
    {
      "cell_type": "code",
      "execution_count": null,
      "metadata": {
        "id": "_zzRDCQb1gAM"
      },
      "source": [
        "# Import required libraries\n",
        "import numpy as np\n",
        "import pandas as pd\n",
        "import matplotlib.pyplot as plt\n",
        "import seaborn as sns\n",
        "from scipy import stats\n",
        "\n",
        "# Set display options\n",
        "pd.set_option('display.max_columns', None)\n",
        "plt.style.use('seaborn')"
      ],
      "outputs": []
    },
    {
      "cell_type": "markdown",
      "metadata": {
        "id": "qZKAGxeT1gAO"
      },
      "source": [
        "## Part 1: Data Generation and Loading"
      ]
    },
    {
      "cell_type": "code",
      "execution_count": null,
      "metadata": {
        "id": "GMHgaqvy1gAP"
      },
      "source": [
        "def generate_ecommerce_data(n_customers=1000):\n",
        "    \"\"\"Generate synthetic e-commerce data\"\"\"\n",
        "    np.random.seed(42)\n",
        "\n",
        "    data = {\n",
        "        'customer_id': range(1, n_customers + 1),\n",
        "        'age': np.random.normal(35, 12, n_customers),\n",
        "        'time_spent_mins': np.random.exponential(30, n_customers),\n",
        "        'pages_visited': np.random.poisson(8, n_customers),\n",
        "        'cart_value': np.random.normal(100, 50, n_customers),\n",
        "        'items_purchased': np.random.poisson(3, n_customers),\n",
        "        'customer_type': np.random.choice(['New', 'Returning', 'Loyal'], n_customers, p=[0.3, 0.5, 0.2]),\n",
        "        'device': np.random.choice(['Mobile', 'Desktop', 'Tablet'], n_customers, p=[0.45, 0.4, 0.15]),\n",
        "        'satisfaction_score': np.random.randint(1, 6, n_customers)\n",
        "    }\n",
        "\n",
        "    # Add some correlations and constraints\n",
        "    data['cart_value'] = data['cart_value'] * (data['items_purchased'] / 3) + np.random.normal(0, 10, n_customers)\n",
        "    data['cart_value'] = np.maximum(0, data['cart_value'])  # Ensure non-negative values\n",
        "\n",
        "    return pd.DataFrame(data)\n",
        "\n",
        "# Generate dataset\n",
        "df = generate_ecommerce_data()\n",
        "print(\"Dataset Shape:\", df.shape)\n",
        "print(\"\\nFirst few rows:\")\n",
        "print(df.head())"
      ],
      "outputs": []
    },
    {
      "cell_type": "markdown",
      "metadata": {
        "id": "9JcuXQ0v1gAQ"
      },
      "source": [
        "## Challenge Tasks\n",
        "\n",
        "### Task 1: Data Cleaning and Preprocessing"
      ]
    },
    {
      "cell_type": "code",
      "execution_count": null,
      "metadata": {
        "id": "wAqe24F_1gAQ"
      },
      "source": [
        "def clean_data(df):\n",
        "    \"\"\"Clean and preprocess the dataset\"\"\"\n",
        "    # Your code here:\n",
        "    # 1. Handle missing values\n",
        "    # 2. Remove duplicates\n",
        "    # 3. Handle outliers\n",
        "    # 4. Feature engineering\n",
        "    pass\n",
        "\n",
        "# Example solution structure:\n",
        "def example_cleaning(df):\n",
        "    df_clean = df.copy()\n",
        "\n",
        "    # Check for missing values\n",
        "    print(\"Missing values:\")\n",
        "    print(df_clean.isnull().sum())\n",
        "\n",
        "    # Check for duplicates\n",
        "    print(\"\\nDuplicate rows:\", df_clean.duplicated().sum())\n",
        "\n",
        "    # Handle outliers using IQR method\n",
        "    numeric_cols = ['age', 'time_spent_mins', 'cart_value']\n",
        "    for col in numeric_cols:\n",
        "        Q1 = df_clean[col].quantile(0.25)\n",
        "        Q3 = df_clean[col].quantile(0.75)\n",
        "        IQR = Q3 - Q1\n",
        "        df_clean[f'{col}_outlier'] = ((df_clean[col] < (Q1 - 1.5 * IQR)) |\n",
        "                                      (df_clean[col] > (Q3 + 1.5 * IQR)))\n",
        "\n",
        "    # Feature engineering\n",
        "    df_clean['avg_item_value'] = df_clean['cart_value'] / df_clean['items_purchased']\n",
        "\n",
        "    return df_clean\n",
        "\n",
        "df_clean = example_cleaning(df)"
      ],
      "outputs": []
    },
    {
      "cell_type": "markdown",
      "metadata": {
        "id": "Oq8INIwz1gAQ"
      },
      "source": [
        "### Task 2: Statistical Analysis"
      ]
    },
    {
      "cell_type": "code",
      "execution_count": null,
      "metadata": {
        "id": "eEmud7ku1gAR"
      },
      "source": [
        "def perform_statistical_analysis(df):\n",
        "    \"\"\"Perform comprehensive statistical analysis\"\"\"\n",
        "    # Your code here:\n",
        "    # 1. Descriptive statistics\n",
        "    # 2. Correlation analysis\n",
        "    # 3. Hypothesis testing\n",
        "    # 4. Distribution analysis\n",
        "    pass\n",
        "\n",
        "# Example solution structure:\n",
        "def example_analysis(df):\n",
        "    # Basic statistics\n",
        "    print(\"Basic Statistics:\")\n",
        "    print(df.describe())\n",
        "\n",
        "    # Correlation analysis\n",
        "    numeric_cols = ['age', 'time_spent_mins', 'cart_value', 'items_purchased']\n",
        "    correlation = df[numeric_cols].corr()\n",
        "\n",
        "    plt.figure(figsize=(10, 8))\n",
        "    sns.heatmap(correlation, annot=True, cmap='coolwarm')\n",
        "    plt.title('Correlation Matrix')\n",
        "    plt.show()\n",
        "\n",
        "    # Distribution analysis\n",
        "    plt.figure(figsize=(15, 5))\n",
        "    for i, col in enumerate(numeric_cols[:3], 1):\n",
        "        plt.subplot(1, 3, i)\n",
        "        sns.histplot(df[col], kde=True)\n",
        "        plt.title(f'{col} Distribution')\n",
        "    plt.tight_layout()\n",
        "    plt.show()\n",
        "\n",
        "example_analysis(df_clean)"
      ],
      "outputs": []
    },
    {
      "cell_type": "markdown",
      "metadata": {
        "id": "BCqL0Bvn1gAS"
      },
      "source": [
        "### Task 3: Customer Segmentation Analysis"
      ]
    },
    {
      "cell_type": "code",
      "execution_count": null,
      "metadata": {
        "id": "sU1Xp3TY1gAS"
      },
      "source": [
        "def analyze_customer_segments(df):\n",
        "    \"\"\"Analyze different customer segments\"\"\"\n",
        "    # Your code here:\n",
        "    # 1. Segment customers by type\n",
        "    # 2. Analyze behavior patterns\n",
        "    # 3. Compare metrics across segments\n",
        "    pass\n",
        "\n",
        "# Example solution structure:\n",
        "def example_segmentation(df):\n",
        "    # Analyze metrics by customer type\n",
        "    segment_analysis = df.groupby('customer_type').agg({\n",
        "        'cart_value': ['mean', 'count'],\n",
        "        'items_purchased': 'mean',\n",
        "        'satisfaction_score': 'mean'\n",
        "    }).round(2)\n",
        "\n",
        "    print(\"Customer Segment Analysis:\")\n",
        "    print(segment_analysis)\n",
        "\n",
        "    # Visualize segments\n",
        "    plt.figure(figsize=(15, 5))\n",
        "\n",
        "    plt.subplot(131)\n",
        "    sns.boxplot(data=df, x='customer_type', y='cart_value')\n",
        "    plt.title('Cart Value by Customer Type')\n",
        "\n",
        "    plt.subplot(132)\n",
        "    sns.boxplot(data=df, x='customer_type', y='items_purchased')\n",
        "    plt.title('Items Purchased by Customer Type')\n",
        "\n",
        "    plt.subplot(133)\n",
        "    sns.boxplot(data=df, x='customer_type', y='satisfaction_score')\n",
        "    plt.title('Satisfaction Score by Customer Type')\n",
        "\n",
        "    plt.tight_layout()\n",
        "    plt.show()\n",
        "\n",
        "example_segmentation(df_clean)"
      ],
      "outputs": []
    },
    {
      "cell_type": "markdown",
      "metadata": {
        "id": "iyjPIIXE1gAT"
      },
      "source": [
        "### Task 4: Advanced Visualization"
      ]
    },
    {
      "cell_type": "code",
      "execution_count": null,
      "metadata": {
        "id": "xH42huX91gAT"
      },
      "source": [
        "def create_visualizations(df):\n",
        "    \"\"\"Create advanced visualizations\"\"\"\n",
        "    # Your code here:\n",
        "    # 1. Create multi-dimensional plots\n",
        "    # 2. Time-based analysis\n",
        "    # 3. Interactive visualizations\n",
        "    pass\n",
        "\n",
        "# Example solution structure:\n",
        "def example_visualization(df):\n",
        "    # Scatter plot with multiple dimensions\n",
        "    plt.figure(figsize=(10, 6))\n",
        "    sns.scatterplot(data=df, x='time_spent_mins', y='cart_value',\n",
        "                    hue='customer_type', size='items_purchased')\n",
        "    plt.title('Customer Behavior Analysis')\n",
        "    plt.show()\n",
        "\n",
        "    # Device usage by customer type\n",
        "    plt.figure(figsize=(10, 6))\n",
        "    device_customer = pd.crosstab(df['device'], df['customer_type'])\n",
        "    device_customer.plot(kind='bar', stacked=True)\n",
        "    plt.title('Device Usage by Customer Type')\n",
        "    plt.legend(title='Customer Type')\n",
        "    plt.show()\n",
        "\n",
        "example_visualization(df_clean)"
      ],
      "outputs": []
    },
    {
      "cell_type": "markdown",
      "metadata": {
        "id": "2lZebtsV1gAT"
      },
      "source": [
        "### Task 5: Insights and Recommendations"
      ]
    },
    {
      "cell_type": "code",
      "execution_count": null,
      "metadata": {
        "id": "R773RU6E1gAT"
      },
      "source": [
        "def generate_insights(df):\n",
        "    \"\"\"Generate insights and recommendations\"\"\"\n",
        "    # Your code here:\n",
        "    # 1. Key findings\n",
        "    # 2. Business recommendations\n",
        "    # 3. Future analysis suggestions\n",
        "    pass\n",
        "\n",
        "# Example solution structure:\n",
        "def example_insights(df):\n",
        "    print(\"Key Insights:\")\n",
        "\n",
        "    # Customer behavior patterns\n",
        "    print(\"\\n1. Customer Behavior:\")\n",
        "    print(f\"Average cart value: ${df['cart_value'].mean():.2f}\")\n",
        "    print(f\"Average items per purchase: {df['items_purchased'].mean():.2f}\")\n",
        "\n",
        "    # Customer satisfaction\n",
        "    print(\"\\n2. Customer Satisfaction:\")\n",
        "    satisfaction_by_type = df.groupby('customer_type')['satisfaction_score'].mean()\n",
        "    print(satisfaction_by_type)\n",
        "\n",
        "    # Device preferences\n",
        "    print(\"\\n3. Device Usage:\")\n",
        "    device_usage = df['device'].value_counts(normalize=True)\n",
        "    print(device_usage)\n",
        "\n",
        "    print(\"\\nRecommendations:\")\n",
        "    print(\"1. Focus on mobile optimization\")\n",
        "    print(\"2. Implement loyalty program improvements\")\n",
        "    print(\"3. Enhance customer engagement strategies\")\n",
        "\n",
        "example_insights(df_clean)"
      ],
      "outputs": []
    },
    {
      "cell_type": "markdown",
      "metadata": {
        "id": "yzm6bBqH1gAT"
      },
      "source": [
        "## Evaluation Criteria\n",
        "\n",
        "Your analysis will be evaluated based on:\n",
        "1. Data Cleaning and Preprocessing (20%)\n",
        "   - Handling missing values\n",
        "   - Dealing with outliers\n",
        "   - Feature engineering\n",
        "\n",
        "2. Statistical Analysis (20%)\n",
        "   - Descriptive statistics\n",
        "   - Correlation analysis\n",
        "   - Distribution analysis\n",
        "\n",
        "3. Visualization Quality (20%)\n",
        "   - Appropriate chart types\n",
        "   - Clear presentation\n",
        "   - Meaningful insights\n",
        "\n",
        "4. Customer Segmentation (20%)\n",
        "   - Segment identification\n",
        "   - Behavior analysis\n",
        "   - Actionable insights\n",
        "\n",
        "5. Insights and Recommendations (20%)\n",
        "   - Clear findings\n",
        "   - Business value\n",
        "   - Actionable recommendations\n",
        "\n",
        "## Submission Guidelines\n",
        "1. Complete all tasks in this notebook\n",
        "2. Add comments explaining your analysis\n",
        "3. Include a summary of findings\n",
        "4. Submit the completed notebook"
      ]
    }
  ],
  "metadata": {
    "kernelspec": {
      "display_name": "Python 3",
      "language": "python",
      "name": "python3"
    },
    "colab": {
      "provenance": [],
      "include_colab_link": true
    }
  },
  "nbformat": 4,
  "nbformat_minor": 0
}
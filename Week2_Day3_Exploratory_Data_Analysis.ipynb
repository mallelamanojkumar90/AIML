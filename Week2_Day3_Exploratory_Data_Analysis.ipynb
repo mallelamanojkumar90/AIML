{
  "cells": [
    {
      "cell_type": "markdown",
      "metadata": {
        "id": "view-in-github",
        "colab_type": "text"
      },
      "source": [
        "<a href=\"https://colab.research.google.com/github/mallelamanojkumar90/AIML/blob/main/Week2_Day3_Exploratory_Data_Analysis.ipynb\" target=\"_parent\"><img src=\"https://colab.research.google.com/assets/colab-badge.svg\" alt=\"Open In Colab\"/></a>"
      ]
    },
    {
      "cell_type": "markdown",
      "metadata": {
        "id": "nbYcxEFh0cxB"
      },
      "source": [
        "# Week 2, Day 3: Exploratory Data Analysis (EDA)\n",
        "\n",
        "## Learning Objectives\n",
        "- Understand the importance of EDA\n",
        "- Learn key EDA techniques\n",
        "- Master data summarization methods\n",
        "- Practice identifying patterns and insights\n"
      ]
    },
    {
      "cell_type": "code",
      "execution_count": null,
      "metadata": {
        "id": "OxUgBCeU0cxL"
      },
      "source": [
        "# Import required libraries\n",
        "import numpy as np\n",
        "import pandas as pd\n",
        "import matplotlib.pyplot as plt\n",
        "import seaborn as sns\n",
        "\n",
        "# Set display options\n",
        "pd.set_option('display.max_columns', None)\n",
        "plt.style.use('seaborn')"
      ],
      "outputs": []
    },
    {
      "cell_type": "markdown",
      "metadata": {
        "id": "r3CA5t2Y0cxS"
      },
      "source": [
        "## 1. Data Loading and Initial Exploration"
      ]
    },
    {
      "cell_type": "code",
      "execution_count": null,
      "metadata": {
        "id": "jDjrMn-U0cxU"
      },
      "source": [
        "# Create sample dataset\n",
        "np.random.seed(42)\n",
        "n_samples = 1000\n",
        "\n",
        "# Generate synthetic e-commerce data\n",
        "data = {\n",
        "    'customer_id': range(1, n_samples + 1),\n",
        "    'age': np.random.normal(35, 12, n_samples),\n",
        "    'purchase_amount': np.random.exponential(100, n_samples),\n",
        "    'items_bought': np.random.poisson(3, n_samples),\n",
        "    'customer_type': np.random.choice(['New', 'Regular', 'VIP'], n_samples, p=[0.3, 0.5, 0.2]),\n",
        "    'satisfaction_score': np.random.randint(1, 6, n_samples)\n",
        "}\n",
        "\n",
        "df = pd.DataFrame(data)\n",
        "\n",
        "# Initial exploration\n",
        "print(\"Dataset Shape:\", df.shape)\n",
        "print(\"\\nFirst few rows:\")\n",
        "print(df.head())\n",
        "print(\"\\nData Info:\")\n",
        "print(df.info())\n",
        "print(\"\\nBasic Statistics:\")\n",
        "print(df.describe())"
      ],
      "outputs": []
    },
    {
      "cell_type": "markdown",
      "metadata": {
        "id": "RoYRcp930cxW"
      },
      "source": [
        "## 2. Data Quality Analysis"
      ]
    },
    {
      "cell_type": "code",
      "execution_count": null,
      "metadata": {
        "id": "_n_W205l0cxX"
      },
      "source": [
        "def analyze_data_quality(df):\n",
        "    # Check for missing values\n",
        "    print(\"Missing Values:\")\n",
        "    print(df.isnull().sum())\n",
        "\n",
        "    # Check for duplicates\n",
        "    print(\"\\nNumber of duplicates:\", df.duplicated().sum())\n",
        "\n",
        "    # Value counts for categorical variables\n",
        "    print(\"\\nCustomer Type Distribution:\")\n",
        "    print(df['customer_type'].value_counts())\n",
        "\n",
        "    # Check for outliers using IQR method\n",
        "    def detect_outliers(column):\n",
        "        Q1 = df[column].quantile(0.25)\n",
        "        Q3 = df[column].quantile(0.75)\n",
        "        IQR = Q3 - Q1\n",
        "        outliers = df[(df[column] < Q1 - 1.5*IQR) | (df[column] > Q3 + 1.5*IQR)][column]\n",
        "        return len(outliers)\n",
        "\n",
        "    print(\"\\nNumber of outliers:\")\n",
        "    for column in ['age', 'purchase_amount', 'items_bought']:\n",
        "        print(f\"{column}: {detect_outliers(column)}\")\n",
        "\n",
        "analyze_data_quality(df)"
      ],
      "outputs": []
    },
    {
      "cell_type": "markdown",
      "metadata": {
        "id": "o-tP2eo00cxa"
      },
      "source": [
        "## 3. Univariate Analysis"
      ]
    },
    {
      "cell_type": "code",
      "execution_count": null,
      "metadata": {
        "id": "HAhy_sVT0cxc"
      },
      "source": [
        "def perform_univariate_analysis(df):\n",
        "    # Set up the figure\n",
        "    plt.figure(figsize=(15, 10))\n",
        "\n",
        "    # Histogram for age\n",
        "    plt.subplot(231)\n",
        "    sns.histplot(df['age'], kde=True)\n",
        "    plt.title('Age Distribution')\n",
        "\n",
        "    # Histogram for purchase amount\n",
        "    plt.subplot(232)\n",
        "    sns.histplot(df['purchase_amount'], kde=True)\n",
        "    plt.title('Purchase Amount Distribution')\n",
        "\n",
        "    # Count plot for items bought\n",
        "    plt.subplot(233)\n",
        "    sns.countplot(data=df, x='items_bought')\n",
        "    plt.title('Items Bought Distribution')\n",
        "\n",
        "    # Bar plot for customer type\n",
        "    plt.subplot(234)\n",
        "    sns.countplot(data=df, x='customer_type')\n",
        "    plt.title('Customer Type Distribution')\n",
        "\n",
        "    # Bar plot for satisfaction score\n",
        "    plt.subplot(235)\n",
        "    sns.countplot(data=df, x='satisfaction_score')\n",
        "    plt.title('Satisfaction Score Distribution')\n",
        "\n",
        "    plt.tight_layout()\n",
        "    plt.show()\n",
        "\n",
        "perform_univariate_analysis(df)"
      ],
      "outputs": []
    },
    {
      "cell_type": "markdown",
      "metadata": {
        "id": "EJ7ndBak0cxe"
      },
      "source": [
        "## 4. Bivariate Analysis"
      ]
    },
    {
      "cell_type": "code",
      "execution_count": null,
      "metadata": {
        "id": "e2L1dXBZ0cxg"
      },
      "source": [
        "def perform_bivariate_analysis(df):\n",
        "    # Set up the figure\n",
        "    plt.figure(figsize=(15, 10))\n",
        "\n",
        "    # Scatter plot: Age vs Purchase Amount\n",
        "    plt.subplot(231)\n",
        "    sns.scatterplot(data=df, x='age', y='purchase_amount', alpha=0.5)\n",
        "    plt.title('Age vs Purchase Amount')\n",
        "\n",
        "    # Box plot: Customer Type vs Purchase Amount\n",
        "    plt.subplot(232)\n",
        "    sns.boxplot(data=df, x='customer_type', y='purchase_amount')\n",
        "    plt.title('Purchase Amount by Customer Type')\n",
        "\n",
        "    # Box plot: Satisfaction vs Purchase Amount\n",
        "    plt.subplot(233)\n",
        "    sns.boxplot(data=df, x='satisfaction_score', y='purchase_amount')\n",
        "    plt.title('Purchase Amount by Satisfaction')\n",
        "\n",
        "    # Violin plot: Customer Type vs Age\n",
        "    plt.subplot(234)\n",
        "    sns.violinplot(data=df, x='customer_type', y='age')\n",
        "    plt.title('Age Distribution by Customer Type')\n",
        "\n",
        "    # Heat map: Correlation matrix\n",
        "    plt.subplot(235)\n",
        "    numeric_cols = ['age', 'purchase_amount', 'items_bought', 'satisfaction_score']\n",
        "    sns.heatmap(df[numeric_cols].corr(), annot=True, cmap='coolwarm')\n",
        "    plt.title('Correlation Matrix')\n",
        "\n",
        "    plt.tight_layout()\n",
        "    plt.show()\n",
        "\n",
        "perform_bivariate_analysis(df)"
      ],
      "outputs": []
    },
    {
      "cell_type": "markdown",
      "metadata": {
        "id": "DbdaJzUs0cxh"
      },
      "source": [
        "## 5. Advanced Analysis and Insights"
      ]
    },
    {
      "cell_type": "code",
      "execution_count": null,
      "metadata": {
        "id": "lae-IvGd0cxh"
      },
      "source": [
        "def generate_insights(df):\n",
        "    # Customer segmentation by purchase amount\n",
        "    df['purchase_segment'] = pd.qcut(df['purchase_amount'], q=3, labels=['Low', 'Medium', 'High'])\n",
        "\n",
        "    # Average metrics by customer type\n",
        "    customer_metrics = df.groupby('customer_type').agg({\n",
        "        'purchase_amount': 'mean',\n",
        "        'items_bought': 'mean',\n",
        "        'satisfaction_score': 'mean'\n",
        "    }).round(2)\n",
        "\n",
        "    print(\"Average Metrics by Customer Type:\")\n",
        "    print(customer_metrics)\n",
        "\n",
        "    # Satisfaction analysis\n",
        "    satisfaction_by_segment = pd.crosstab(df['purchase_segment'], df['satisfaction_score'])\n",
        "    print(\"\\nSatisfaction Distribution by Purchase Segment:\")\n",
        "    print(satisfaction_by_segment)\n",
        "\n",
        "    # Age group analysis\n",
        "    df['age_group'] = pd.cut(df['age'], bins=[0, 25, 35, 50, 100], labels=['Young', 'Adult', 'Middle-aged', 'Senior'])\n",
        "    age_analysis = df.groupby('age_group').agg({\n",
        "        'purchase_amount': ['mean', 'count'],\n",
        "        'satisfaction_score': 'mean'\n",
        "    }).round(2)\n",
        "\n",
        "    print(\"\\nMetrics by Age Group:\")\n",
        "    print(age_analysis)\n",
        "\n",
        "generate_insights(df)"
      ],
      "outputs": []
    },
    {
      "cell_type": "markdown",
      "metadata": {
        "id": "XFEDG8xa0cxi"
      },
      "source": [
        "## Practical Exercises"
      ]
    },
    {
      "cell_type": "code",
      "execution_count": null,
      "metadata": {
        "id": "k9DYuDbk0cxj"
      },
      "source": [
        "# Exercise 1: Customer Behavior Analysis\n",
        "\n",
        "def analyze_customer_behavior(df):\n",
        "    \"\"\"\n",
        "    Analyze customer behavior patterns and create visualizations\n",
        "    \"\"\"\n",
        "    # 1. Calculate average purchase amount by age group and customer type\n",
        "    pivot_table = pd.pivot_table(df,\n",
        "                                values='purchase_amount',\n",
        "                                index='age_group',\n",
        "                                columns='customer_type',\n",
        "                                aggfunc='mean')\n",
        "\n",
        "    # 2. Visualize the results\n",
        "    plt.figure(figsize=(12, 6))\n",
        "    pivot_table.plot(kind='bar')\n",
        "    plt.title('Average Purchase Amount by Age Group and Customer Type')\n",
        "    plt.xlabel('Age Group')\n",
        "    plt.ylabel('Average Purchase Amount')\n",
        "    plt.legend(title='Customer Type')\n",
        "    plt.xticks(rotation=45)\n",
        "    plt.tight_layout()\n",
        "    plt.show()\n",
        "\n",
        "    # 3. Print key findings\n",
        "    print(\"Key Findings:\")\n",
        "    print(pivot_table.round(2))\n",
        "\n",
        "analyze_customer_behavior(df)"
      ],
      "outputs": []
    },
    {
      "cell_type": "code",
      "execution_count": null,
      "metadata": {
        "id": "24vMT3HT0cxk"
      },
      "source": [
        "# Exercise 2: Satisfaction Analysis\n",
        "\n",
        "def analyze_satisfaction(df):\n",
        "    \"\"\"\n",
        "    Analyze factors affecting customer satisfaction\n",
        "    \"\"\"\n",
        "    # 1. Create satisfaction segments\n",
        "    df['satisfaction_level'] = pd.cut(df['satisfaction_score'],\n",
        "                                     bins=[0, 2, 3, 5],\n",
        "                                     labels=['Low', 'Medium', 'High'])\n",
        "\n",
        "    # 2. Analyze purchase patterns by satisfaction\n",
        "    satisfaction_analysis = df.groupby('satisfaction_level').agg({\n",
        "        'purchase_amount': ['mean', 'count'],\n",
        "        'items_bought': 'mean'\n",
        "    }).round(2)\n",
        "\n",
        "    print(\"Satisfaction Analysis:\")\n",
        "    print(satisfaction_analysis)\n",
        "\n",
        "    # 3. Visualize satisfaction distribution by customer type\n",
        "    plt.figure(figsize=(10, 6))\n",
        "    sns.countplot(data=df, x='satisfaction_level', hue='customer_type')\n",
        "    plt.title('Satisfaction Distribution by Customer Type')\n",
        "    plt.xlabel('Satisfaction Level')\n",
        "    plt.ylabel('Count')\n",
        "    plt.legend(title='Customer Type')\n",
        "    plt.tight_layout()\n",
        "    plt.show()\n",
        "\n",
        "analyze_satisfaction(df)"
      ],
      "outputs": []
    },
    {
      "cell_type": "markdown",
      "metadata": {
        "id": "HgqotYSk0cxl"
      },
      "source": [
        "## MCQ Quiz\n",
        "\n",
        "1. What is the primary purpose of EDA?\n",
        "   - a) To clean data\n",
        "   - b) To understand patterns in data\n",
        "   - c) To build models\n",
        "   - d) To create reports\n",
        "\n",
        "2. Which plot is best for showing the distribution of a continuous variable?\n",
        "   - a) Bar plot\n",
        "   - b) Histogram\n",
        "   - c) Scatter plot\n",
        "   - d) Line plot\n",
        "\n",
        "3. What does df.describe() show?\n",
        "   - a) Column names\n",
        "   - b) Missing values\n",
        "   - c) Statistical summary\n",
        "   - d) Data types\n",
        "\n",
        "4. Which method is used to detect missing values?\n",
        "   - a) df.missing()\n",
        "   - b) df.isnull()\n",
        "   - c) df.isna()\n",
        "   - d) Both b and c\n",
        "\n",
        "5. What is a box plot useful for?\n",
        "   - a) Showing correlations\n",
        "   - b) Detecting outliers\n",
        "   - c) Time series analysis\n",
        "   - d) Categorical counts\n",
        "\n",
        "6. Which plot shows the relationship between two continuous variables?\n",
        "   - a) Bar plot\n",
        "   - b) Scatter plot\n",
        "   - c) Box plot\n",
        "   - d) Pie chart\n",
        "\n",
        "7. What does IQR stand for?\n",
        "   - a) Internal Quality Range\n",
        "   - b) Interquartile Range\n",
        "   - c) Internal Quantity Review\n",
        "   - d) Index Quality Rating\n",
        "\n",
        "8. Which method creates a frequency table?\n",
        "   - a) value_counts()\n",
        "   - b) frequency()\n",
        "   - c) count()\n",
        "   - d) groupby()\n",
        "\n",
        "9. What is a heat map used for?\n",
        "   - a) Showing missing values\n",
        "   - b) Showing correlations\n",
        "   - c) Showing distributions\n",
        "   - d) Showing trends\n",
        "\n",
        "10. Which type of analysis examines two variables together?\n",
        "    - a) Univariate analysis\n",
        "    - b) Bivariate analysis\n",
        "    - c) Multivariate analysis\n",
        "    - d) Single analysis\n",
        "\n",
        "Answers: 1-b, 2-b, 3-c, 4-d, 5-b, 6-b, 7-b, 8-a, 9-b, 10-b"
      ]
    }
  ],
  "metadata": {
    "kernelspec": {
      "display_name": "Python 3",
      "language": "python",
      "name": "python3"
    },
    "colab": {
      "provenance": [],
      "include_colab_link": true
    }
  },
  "nbformat": 4,
  "nbformat_minor": 0
}
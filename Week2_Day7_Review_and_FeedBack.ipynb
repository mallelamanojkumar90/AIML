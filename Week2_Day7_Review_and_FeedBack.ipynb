{
  "cells": [
    {
      "cell_type": "markdown",
      "metadata": {
        "id": "view-in-github",
        "colab_type": "text"
      },
      "source": [
        "<a href=\"https://colab.research.google.com/github/mallelamanojkumar90/AIML/blob/main/Week2_Day7_Review_and_FeedBack.ipynb\" target=\"_parent\"><img src=\"https://colab.research.google.com/assets/colab-badge.svg\" alt=\"Open In Colab\"/></a>"
      ]
    },
    {
      "cell_type": "markdown",
      "metadata": {
        "id": "bo5508tj1sLq"
      },
      "source": [
        "# Week 2, Day 7: Review and Feedback Session\n",
        "\n",
        "## Session Overview\n",
        "This session will review the key concepts covered in Week 2 and provide practice exercises to reinforce learning:\n",
        "\n",
        "1. Introduction to Pandas\n",
        "2. Data Visualization\n",
        "3. Exploratory Data Analysis\n",
        "4. Basic Statistics\n",
        "5. Probability Fundamentals\n",
        "\n",
        "## Learning Objectives\n",
        "- Reinforce key concepts\n",
        "- Practice problem-solving\n",
        "- Identify areas for improvement\n",
        "- Prepare for Week 3"
      ]
    },
    {
      "cell_type": "code",
      "execution_count": null,
      "metadata": {
        "id": "NdC_Ptzx1sLr"
      },
      "source": [
        "# Import required libraries\n",
        "import numpy as np\n",
        "import pandas as pd\n",
        "import matplotlib.pyplot as plt\n",
        "import seaborn as sns\n",
        "from scipy import stats"
      ],
      "outputs": []
    },
    {
      "cell_type": "markdown",
      "metadata": {
        "id": "7VanUsUU1sLt"
      },
      "source": [
        "## 1. Pandas Review Exercise"
      ]
    },
    {
      "cell_type": "code",
      "execution_count": null,
      "metadata": {
        "id": "OhQnqCjp1sLu"
      },
      "source": [
        "# Create sample dataset\n",
        "data = {\n",
        "    'Name': ['John', 'Emma', 'Alex', 'Sarah', 'Mike'],\n",
        "    'Age': [25, 30, 22, 28, 35],\n",
        "    'City': ['New York', 'London', 'Paris', 'Tokyo', 'London'],\n",
        "    'Salary': [50000, 60000, 45000, 70000, 65000]\n",
        "}\n",
        "\n",
        "df = pd.DataFrame(data)\n",
        "\n",
        "# Practice tasks\n",
        "print(\"1. Basic DataFrame operations:\")\n",
        "print(\"\\nShape:\", df.shape)\n",
        "print(\"\\nColumns:\", df.columns.tolist())\n",
        "print(\"\\nData types:\\n\", df.dtypes)\n",
        "\n",
        "print(\"\\n2. Data filtering:\")\n",
        "print(\"\\nPeople over 25:\")\n",
        "print(df[df['Age'] > 25])\n",
        "\n",
        "print(\"\\n3. Groupby operation:\")\n",
        "print(\"\\nAverage salary by city:\")\n",
        "print(df.groupby('City')['Salary'].mean())"
      ],
      "outputs": []
    },
    {
      "cell_type": "markdown",
      "metadata": {
        "id": "CIv5VVWF1sLv"
      },
      "source": [
        "## 2. Data Visualization Review"
      ]
    },
    {
      "cell_type": "code",
      "execution_count": null,
      "metadata": {
        "id": "BONYkkWo1sLw"
      },
      "source": [
        "def visualization_review():\n",
        "    # Generate sample data\n",
        "    np.random.seed(42)\n",
        "    data = np.random.normal(100, 15, 1000)\n",
        "    categories = ['A', 'B', 'C', 'D']\n",
        "    values = [23, 45, 56, 78]\n",
        "\n",
        "    # Create multiple plots\n",
        "    fig, ((ax1, ax2), (ax3, ax4)) = plt.subplots(2, 2, figsize=(12, 10))\n",
        "\n",
        "    # Histogram\n",
        "    sns.histplot(data, kde=True, ax=ax1)\n",
        "    ax1.set_title('Histogram with KDE')\n",
        "\n",
        "    # Bar plot\n",
        "    ax2.bar(categories, values)\n",
        "    ax2.set_title('Bar Plot')\n",
        "\n",
        "    # Box plot\n",
        "    sns.boxplot(y=data, ax=ax3)\n",
        "    ax3.set_title('Box Plot')\n",
        "\n",
        "    # Scatter plot\n",
        "    x = np.random.normal(50, 10, 100)\n",
        "    y = x + np.random.normal(0, 10, 100)\n",
        "    ax4.scatter(x, y)\n",
        "    ax4.set_title('Scatter Plot')\n",
        "\n",
        "    plt.tight_layout()\n",
        "    plt.show()\n",
        "\n",
        "visualization_review()"
      ],
      "outputs": []
    },
    {
      "cell_type": "markdown",
      "metadata": {
        "id": "VREHUnDm1sLx"
      },
      "source": [
        "## 3. Statistical Concepts Review"
      ]
    },
    {
      "cell_type": "code",
      "execution_count": null,
      "metadata": {
        "id": "SXQYTKtw1sLy"
      },
      "source": [
        "def statistics_review():\n",
        "    # Generate sample data\n",
        "    np.random.seed(42)\n",
        "    data = np.random.normal(100, 15, 1000)\n",
        "\n",
        "    # Calculate basic statistics\n",
        "    print(\"Basic Statistics:\")\n",
        "    print(f\"Mean: {np.mean(data):.2f}\")\n",
        "    print(f\"Median: {np.median(data):.2f}\")\n",
        "    print(f\"Standard Deviation: {np.std(data):.2f}\")\n",
        "    print(f\"Variance: {np.var(data):.2f}\")\n",
        "\n",
        "    # Calculate z-scores\n",
        "    z_scores = stats.zscore(data)\n",
        "\n",
        "    # Visualize original data and z-scores\n",
        "    fig, (ax1, ax2) = plt.subplots(1, 2, figsize=(12, 5))\n",
        "\n",
        "    sns.histplot(data, kde=True, ax=ax1)\n",
        "    ax1.set_title('Original Data Distribution')\n",
        "\n",
        "    sns.histplot(z_scores, kde=True, ax=ax2)\n",
        "    ax2.set_title('Z-Score Distribution')\n",
        "\n",
        "    plt.tight_layout()\n",
        "    plt.show()\n",
        "\n",
        "statistics_review()"
      ],
      "outputs": []
    },
    {
      "cell_type": "markdown",
      "metadata": {
        "id": "JySDnXjN1sLy"
      },
      "source": [
        "## 4. Comprehensive Review Exercise"
      ]
    },
    {
      "cell_type": "code",
      "execution_count": null,
      "metadata": {
        "id": "BCes5CSD1sLz"
      },
      "source": [
        "def comprehensive_review():\n",
        "    # Create sample dataset\n",
        "    np.random.seed(42)\n",
        "    n_samples = 200\n",
        "\n",
        "    data = {\n",
        "        'feature1': np.random.normal(0, 1, n_samples),\n",
        "        'feature2': np.random.normal(2, 1.5, n_samples),\n",
        "        'category': np.random.choice(['A', 'B', 'C'], n_samples),\n",
        "        'target': np.random.uniform(0, 100, n_samples)\n",
        "    }\n",
        "\n",
        "    df = pd.DataFrame(data)\n",
        "\n",
        "    # 1. Data Analysis\n",
        "    print(\"Basic Statistics:\")\n",
        "    print(df.describe())\n",
        "\n",
        "    # 2. Visualization\n",
        "    plt.figure(figsize=(15, 5))\n",
        "\n",
        "    # Scatter plot\n",
        "    plt.subplot(131)\n",
        "    sns.scatterplot(data=df, x='feature1', y='feature2', hue='category')\n",
        "    plt.title('Feature Relationship')\n",
        "\n",
        "    # Box plot\n",
        "    plt.subplot(132)\n",
        "    sns.boxplot(data=df, x='category', y='target')\n",
        "    plt.title('Target Distribution by Category')\n",
        "\n",
        "    # Distribution plot\n",
        "    plt.subplot(133)\n",
        "    sns.histplot(data=df, x='target', kde=True)\n",
        "    plt.title('Target Distribution')\n",
        "\n",
        "    plt.tight_layout()\n",
        "    plt.show()\n",
        "\n",
        "    # 3. Statistical Analysis\n",
        "    print(\"\\nCorrelation Analysis:\")\n",
        "    correlation = df[['feature1', 'feature2', 'target']].corr()\n",
        "    print(correlation)\n",
        "\n",
        "comprehensive_review()"
      ],
      "outputs": []
    },
    {
      "cell_type": "markdown",
      "metadata": {
        "id": "rPxkDYyH1sLz"
      },
      "source": [
        "## 5. Week 2 Review Quiz"
      ]
    },
    {
      "cell_type": "markdown",
      "metadata": {
        "id": "73cxxApg1sL0"
      },
      "source": [
        "### Multiple Choice Questions\n",
        "\n",
        "1. Which Pandas method is used to handle missing values?\n",
        "   - a) remove()\n",
        "   - b) fillna()\n",
        "   - c) dropna()\n",
        "   - d) Both b and c\n",
        "\n",
        "2. What type of plot is best for showing the distribution of a continuous variable?\n",
        "   - a) Bar plot\n",
        "   - b) Histogram\n",
        "   - c) Scatter plot\n",
        "   - d) Line plot\n",
        "\n",
        "3. Which measure of central tendency is most affected by outliers?\n",
        "   - a) Mean\n",
        "   - b) Median\n",
        "   - c) Mode\n",
        "   - d) Range\n",
        "\n",
        "4. What does the standard deviation measure?\n",
        "   - a) Central tendency\n",
        "   - b) Variability\n",
        "   - c) Correlation\n",
        "   - d) Causation\n",
        "\n",
        "5. Which visualization library is built on top of Matplotlib?\n",
        "   - a) NumPy\n",
        "   - b) Pandas\n",
        "   - c) Seaborn\n",
        "   - d) SciPy\n",
        "\n",
        "6. What is the primary purpose of EDA?\n",
        "   - a) Model building\n",
        "   - b) Data cleaning\n",
        "   - c) Understanding patterns in data\n",
        "   - d) Feature engineering\n",
        "\n",
        "7. Which probability concept is most relevant to machine learning?\n",
        "   - a) Permutations\n",
        "   - b) Combinations\n",
        "   - c) Conditional probability\n",
        "   - d) Counting principles\n",
        "\n",
        "8. What does df.describe() show?\n",
        "   - a) Column names\n",
        "   - b) Missing values\n",
        "   - c) Statistical summary\n",
        "   - d) Data types\n",
        "\n",
        "9. Which plot is best for showing relationships between variables?\n",
        "   - a) Histogram\n",
        "   - b) Scatter plot\n",
        "   - c) Box plot\n",
        "   - d) Bar plot\n",
        "\n",
        "10. What is the IQR used for?\n",
        "    - a) Measuring central tendency\n",
        "    - b) Detecting outliers\n",
        "    - c) Calculating correlation\n",
        "    - d) Determining causation\n",
        "\n",
        "Answers: 1-d, 2-b, 3-a, 4-b, 5-c, 6-c, 7-c, 8-c, 9-b, 10-b"
      ]
    },
    {
      "cell_type": "markdown",
      "metadata": {
        "id": "E6JA8IYN1sL0"
      },
      "source": [
        "## Week 2 Summary\n",
        "\n",
        "### Key Concepts Covered:\n",
        "1. Pandas DataFrame operations and data manipulation\n",
        "2. Data visualization techniques with Matplotlib and Seaborn\n",
        "3. Exploratory Data Analysis methods\n",
        "4. Basic statistical concepts and calculations\n",
        "5. Probability fundamentals and applications\n",
        "\n",
        "### Preparation for Week 3:\n",
        "- Review any challenging concepts\n",
        "- Complete practice exercises\n",
        "- Prepare for introduction to Machine Learning\n",
        "- Review Python programming fundamentals\n",
        "\n",
        "### Additional Resources:\n",
        "- Pandas documentation: https://pandas.pydata.org/docs/\n",
        "- Seaborn tutorial: https://seaborn.pydata.org/tutorial.html\n",
        "- Statistics refresher: https://www.khanacademy.org/math/statistics-probability"
      ]
    }
  ],
  "metadata": {
    "kernelspec": {
      "display_name": "Python 3",
      "language": "python",
      "name": "python3"
    },
    "colab": {
      "provenance": [],
      "include_colab_link": true
    }
  },
  "nbformat": 4,
  "nbformat_minor": 0
}
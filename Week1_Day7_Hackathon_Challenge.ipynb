{
  "cells": [
    {
      "cell_type": "markdown",
      "metadata": {
        "id": "view-in-github",
        "colab_type": "text"
      },
      "source": [
        "<a href=\"https://colab.research.google.com/github/mallelamanojkumar90/AIML/blob/main/Week1_Day7_Hackathon_Challenge.ipynb\" target=\"_parent\"><img src=\"https://colab.research.google.com/assets/colab-badge.svg\" alt=\"Open In Colab\"/></a>"
      ]
    },
    {
      "cell_type": "markdown",
      "metadata": {
        "id": "aU2raNqx9C0K"
      },
      "source": [
        "# Week 1, Day 7: Hackathon Challenge\n",
        "## Create a Simple Python Program for Data Analysis\n",
        "\n",
        "## Challenge Overview\n",
        "Create a data analysis program that demonstrates your understanding of:\n",
        "- Python basics\n",
        "- Data structures\n",
        "- Functions\n",
        "- NumPy operations\n",
        "\n",
        "## Task Description\n",
        "You will create a program that analyzes student performance data, including:\n",
        "1. Data loading and cleaning\n",
        "2. Basic statistical analysis\n",
        "3. Data visualization\n",
        "4. Report generation"
      ]
    },
    {
      "cell_type": "code",
      "execution_count": null,
      "metadata": {
        "id": "jVCEjPxF9C0P"
      },
      "source": [
        "# Import required libraries\n",
        "import numpy as np\n",
        "import matplotlib.pyplot as plt"
      ],
      "outputs": []
    },
    {
      "cell_type": "markdown",
      "metadata": {
        "id": "vn3nK3qg9C0R"
      },
      "source": [
        "## Part 1: Data Generation and Structure"
      ]
    },
    {
      "cell_type": "code",
      "execution_count": null,
      "metadata": {
        "id": "dn33aDS49C0R"
      },
      "source": [
        "# Create sample student data\n",
        "def generate_student_data(num_students=30):\n",
        "    np.random.seed(42)  # For reproducibility\n",
        "\n",
        "    # Generate random scores\n",
        "    math_scores = np.random.normal(75, 15, num_students).round(2)\n",
        "    science_scores = np.random.normal(70, 12, num_students).round(2)\n",
        "    english_scores = np.random.normal(80, 10, num_students).round(2)\n",
        "\n",
        "    # Ensure scores are between 0 and 100\n",
        "    math_scores = np.clip(math_scores, 0, 100)\n",
        "    science_scores = np.clip(science_scores, 0, 100)\n",
        "    english_scores = np.clip(english_scores, 0, 100)\n",
        "\n",
        "    return {\n",
        "        'math': math_scores,\n",
        "        'science': science_scores,\n",
        "        'english': english_scores\n",
        "    }\n",
        "\n",
        "# Generate data\n",
        "student_data = generate_student_data()\n",
        "print(\"Sample of generated data:\")\n",
        "for subject in student_data:\n",
        "    print(f\"\\n{subject.capitalize()} scores (first 5):\", student_data[subject][:5])"
      ],
      "outputs": []
    },
    {
      "cell_type": "markdown",
      "metadata": {
        "id": "nAi008QI9C0S"
      },
      "source": [
        "## Part 2: Statistical Analysis"
      ]
    },
    {
      "cell_type": "code",
      "execution_count": null,
      "metadata": {
        "id": "b1MUaH8o9C0S"
      },
      "source": [
        "def analyze_scores(scores_dict):\n",
        "    analysis_results = {}\n",
        "\n",
        "    for subject, scores in scores_dict.items():\n",
        "        analysis_results[subject] = {\n",
        "            'mean': np.mean(scores),\n",
        "            'median': np.median(scores),\n",
        "            'std': np.std(scores),\n",
        "            'min': np.min(scores),\n",
        "            'max': np.max(scores)\n",
        "        }\n",
        "\n",
        "    return analysis_results\n",
        "\n",
        "# Perform analysis\n",
        "analysis = analyze_scores(student_data)\n",
        "\n",
        "# Print results\n",
        "print(\"Statistical Analysis Results:\")\n",
        "for subject, stats in analysis.items():\n",
        "    print(f\"\\n{subject.capitalize()}:\")\n",
        "    for metric, value in stats.items():\n",
        "        print(f\"{metric}: {value:.2f}\")"
      ],
      "outputs": []
    },
    {
      "cell_type": "markdown",
      "metadata": {
        "id": "UtmrtGW89C0T"
      },
      "source": [
        "## Part 3: Data Visualization"
      ]
    },
    {
      "cell_type": "code",
      "execution_count": null,
      "metadata": {
        "id": "j7TpnCb99C0T"
      },
      "source": [
        "def visualize_data(data_dict):\n",
        "    plt.figure(figsize=(15, 5))\n",
        "\n",
        "    # Box plot\n",
        "    plt.subplot(131)\n",
        "    plt.boxplot(data_dict.values())\n",
        "    plt.xticks(range(1, len(data_dict) + 1), data_dict.keys())\n",
        "    plt.title('Score Distribution by Subject')\n",
        "    plt.ylabel('Scores')\n",
        "\n",
        "    # Histogram\n",
        "    plt.subplot(132)\n",
        "    for subject, scores in data_dict.items():\n",
        "        plt.hist(scores, alpha=0.5, label=subject)\n",
        "    plt.title('Score Frequency Distribution')\n",
        "    plt.xlabel('Scores')\n",
        "    plt.ylabel('Frequency')\n",
        "    plt.legend()\n",
        "\n",
        "    # Bar plot of means\n",
        "    plt.subplot(133)\n",
        "    means = [np.mean(scores) for scores in data_dict.values()]\n",
        "    plt.bar(data_dict.keys(), means)\n",
        "    plt.title('Average Scores by Subject')\n",
        "    plt.ylabel('Mean Score')\n",
        "\n",
        "    plt.tight_layout()\n",
        "    plt.show()\n",
        "\n",
        "# Create visualizations\n",
        "visualize_data(student_data)"
      ],
      "outputs": []
    },
    {
      "cell_type": "markdown",
      "metadata": {
        "id": "EsY9lm6g9C0U"
      },
      "source": [
        "## Part 4: Performance Analysis and Grading"
      ]
    },
    {
      "cell_type": "code",
      "execution_count": null,
      "metadata": {
        "id": "uDf4uSjM9C0V"
      },
      "source": [
        "def analyze_performance(data_dict):\n",
        "    # Calculate overall scores\n",
        "    overall_scores = np.mean(list(data_dict.values()), axis=0)\n",
        "\n",
        "    # Grade distribution function\n",
        "    def assign_grade(score):\n",
        "        if score >= 90: return 'A'\n",
        "        elif score >= 80: return 'B'\n",
        "        elif score >= 70: return 'C'\n",
        "        elif score >= 60: return 'D'\n",
        "        else: return 'F'\n",
        "\n",
        "    # Calculate grades\n",
        "    grades = [assign_grade(score) for score in overall_scores]\n",
        "    grade_counts = {grade: grades.count(grade) for grade in set(grades)}\n",
        "\n",
        "    # Calculate pass rate (grades A, B, C)\n",
        "    pass_rate = sum(1 for grade in grades if grade in 'ABC') / len(grades) * 100\n",
        "\n",
        "    return {\n",
        "        'grade_distribution': grade_counts,\n",
        "        'pass_rate': pass_rate,\n",
        "        'overall_average': np.mean(overall_scores)\n",
        "    }\n",
        "\n",
        "# Perform performance analysis\n",
        "performance = analyze_performance(student_data)\n",
        "\n",
        "# Print results\n",
        "print(\"Performance Analysis Results:\")\n",
        "print(f\"\\nGrade Distribution:\")\n",
        "for grade, count in performance['grade_distribution'].items():\n",
        "    print(f\"Grade {grade}: {count} students\")\n",
        "print(f\"\\nPass Rate: {performance['pass_rate']:.2f}%\")\n",
        "print(f\"Overall Average: {performance['overall_average']:.2f}\")"
      ],
      "outputs": []
    },
    {
      "cell_type": "markdown",
      "metadata": {
        "id": "TByPsiX49C0V"
      },
      "source": [
        "## Challenge Tasks\n",
        "\n",
        "Now it's your turn! Complete the following tasks:\n",
        "\n",
        "1. Modify the data generation to include more subjects or different score distributions\n",
        "2. Add new statistical measures to the analysis\n",
        "3. Create additional visualizations\n",
        "4. Implement a function to identify top performers and subjects needing improvement\n",
        "5. Generate a comprehensive report combining all analyses\n",
        "\n",
        "### Bonus Challenges:\n",
        "- Add student demographics and analyze performance patterns\n",
        "- Implement data export functionality to CSV\n",
        "- Create a correlation analysis between subjects\n",
        "- Add predictive analytics for future performance"
      ]
    },
    {
      "cell_type": "code",
      "execution_count": null,
      "metadata": {
        "id": "wzKbRz469C0W"
      },
      "source": [
        "# Your solution here\n",
        "\n",
        "# Example structure for a solution:\n",
        "def enhanced_analysis():\n",
        "    # 1. Generate enhanced data\n",
        "    # Your code here\n",
        "\n",
        "    # 2. Perform additional statistical analysis\n",
        "    # Your code here\n",
        "\n",
        "    # 3. Create new visualizations\n",
        "    # Your code here\n",
        "\n",
        "    # 4. Identify patterns and insights\n",
        "    # Your code here\n",
        "\n",
        "    # 5. Generate comprehensive report\n",
        "    # Your code here\n",
        "\n",
        "    pass"
      ],
      "outputs": []
    },
    {
      "cell_type": "markdown",
      "metadata": {
        "id": "phd-B7u59C0W"
      },
      "source": [
        "## Evaluation Criteria\n",
        "\n",
        "Your solution will be evaluated based on:\n",
        "1. Code organization and clarity (20%)\n",
        "2. Proper use of Python data structures and NumPy (25%)\n",
        "3. Accuracy of analysis and calculations (25%)\n",
        "4. Visualization quality and insights (20%)\n",
        "5. Additional features and creativity (10%)\n",
        "\n",
        "## Submission Guidelines\n",
        "1. Ensure all code is well-commented\n",
        "2. Include a brief explanation of your approach\n",
        "3. Document any additional features you implemented\n",
        "4. Test your code with different datasets"
      ]
    }
  ],
  "metadata": {
    "kernelspec": {
      "display_name": "Python 3",
      "language": "python",
      "name": "python3"
    },
    "colab": {
      "provenance": [],
      "include_colab_link": true
    }
  },
  "nbformat": 4,
  "nbformat_minor": 0
}
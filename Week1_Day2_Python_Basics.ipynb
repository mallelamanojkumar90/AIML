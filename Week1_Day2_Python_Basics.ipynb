{
  "cells": [
    {
      "cell_type": "markdown",
      "metadata": {
        "id": "view-in-github",
        "colab_type": "text"
      },
      "source": [
        "<a href=\"https://colab.research.google.com/github/mallelamanojkumar90/AIML/blob/main/Week1_Day2_Python_Basics.ipynb\" target=\"_parent\"><img src=\"https://colab.research.google.com/assets/colab-badge.svg\" alt=\"Open In Colab\"/></a>"
      ]
    },
    {
      "cell_type": "markdown",
      "metadata": {
        "id": "F6nwgxeqtXgk"
      },
      "source": [
        "# Week 1, Day 2: Python Basics - Data Types, Variables, and Operators\n",
        "\n",
        "## Learning Objectives\n",
        "- Understand basic Python data types\n",
        "- Learn about variables and variable assignment\n",
        "- Master different types of operators in Python\n",
        "- Practice basic Python operations\n"
      ]
    },
    {
      "cell_type": "markdown",
      "metadata": {
        "id": "tOF_0S8PtXgn"
      },
      "source": [
        "## 1. Python Data Types\n",
        "\n",
        "### Numeric Types\n",
        "- int (Integer)\n",
        "- float (Floating-point)\n",
        "- complex (Complex numbers)\n",
        "\n",
        "### Text Type\n",
        "- str (String)\n",
        "\n",
        "### Boolean Type\n",
        "- bool (True/False)\n"
      ]
    },
    {
      "cell_type": "code",
      "execution_count": null,
      "metadata": {
        "colab": {
          "base_uri": "https://localhost:8080/"
        },
        "id": "OFH9OKgltXgn",
        "outputId": "d9c84ea6-544c-4652-aa53-ce00514f9137"
      },
      "source": [
        "# Examples of different data types\n",
        "integer_num = 42\n",
        "float_num = 3.14\n",
        "complex_num = 2 + 3j\n",
        "text = \"Hello, Python!\"\n",
        "is_python_fun = True\n",
        "\n",
        "# Check types\n",
        "print(f\"Type of {integer_num}: {type(integer_num)}\")\n",
        "print(f\"Type of {float_num}: {type(float_num)}\")\n",
        "print(f\"Type of {complex_num}: {type(complex_num)}\")\n",
        "print(f\"Type of {text}: {type(text)}\")\n",
        "print(f\"Type of {is_python_fun}: {type(is_python_fun)}\")"
      ],
      "outputs": [
        {
          "output_type": "stream",
          "name": "stdout",
          "text": [
            "Type of 42: <class 'int'>\n",
            "Type of 3.14: <class 'float'>\n",
            "Type of (2+3j): <class 'complex'>\n",
            "Type of Hello, Python!: <class 'str'>\n",
            "Type of True: <class 'bool'>\n"
          ]
        }
      ]
    },
    {
      "cell_type": "markdown",
      "metadata": {
        "id": "p9VvYwKztXgp"
      },
      "source": [
        "## 2. Variables\n",
        "\n",
        "Rules for Python variables:\n",
        "- Must start with a letter or underscore\n",
        "- Can contain letters, numbers, and underscores\n",
        "- Case-sensitive\n",
        "- Cannot use reserved keywords"
      ]
    },
    {
      "cell_type": "code",
      "execution_count": null,
      "metadata": {
        "colab": {
          "base_uri": "https://localhost:8080/"
        },
        "id": "DcTUbkCYtXgp",
        "outputId": "94c08db5-952b-40e2-b0ee-9959f983aa97"
      },
      "source": [
        "# Variable assignment examples\n",
        "name = \"Alice\"\n",
        "age = 25\n",
        "height = 1.75\n",
        "_private_var = \"secret\"\n",
        "\n",
        "# Multiple assignment\n",
        "x, y, z = 1, 2, 3\n",
        "\n",
        "print(f\"Name: {name}\")\n",
        "print(f\"Age: {age}\")\n",
        "print(f\"Height: {height}\")\n",
        "print(f\"x: {x}, y: {y}, z: {z}\")"
      ],
      "outputs": [
        {
          "output_type": "stream",
          "name": "stdout",
          "text": [
            "Name: Alice\n",
            "Age: 25\n",
            "Height: 1.75\n",
            "x: 1, y: 2, z: 3\n"
          ]
        }
      ]
    },
    {
      "cell_type": "markdown",
      "metadata": {
        "id": "WzImnrlctXgp"
      },
      "source": [
        "## 3. Operators\n",
        "\n",
        "### Arithmetic Operators\n",
        "- `+` (Addition)\n",
        "- `-` (Subtraction)\n",
        "- `*` (Multiplication)\n",
        "- `/` (Division)\n",
        "- `//` (Floor Division)\n",
        "- `%` (Modulus)\n",
        "- `**` (Exponentiation)"
      ]
    },
    {
      "cell_type": "code",
      "execution_count": null,
      "metadata": {
        "colab": {
          "base_uri": "https://localhost:8080/"
        },
        "id": "MZB2X-x8tXgq",
        "outputId": "f94f243a-72ec-43e5-e914-9c61f0940762"
      },
      "source": [
        "# Arithmetic operations\n",
        "a = 10\n",
        "b = 3\n",
        "\n",
        "print(f\"Addition: {a + b}\")\n",
        "print(f\"Subtraction: {a - b}\")\n",
        "print(f\"Multiplication: {a * b}\")\n",
        "print(f\"Division: {a / b}\")\n",
        "print(f\"Floor Division: {a // b}\")\n",
        "print(f\"Modulus: {a % b}\")\n",
        "print(f\"Exponentiation: {a ** b}\")"
      ],
      "outputs": [
        {
          "output_type": "stream",
          "name": "stdout",
          "text": [
            "Addition: 13\n",
            "Subtraction: 7\n",
            "Multiplication: 30\n",
            "Division: 3.3333333333333335\n",
            "Floor Division: 3\n",
            "Modulus: 1\n",
            "Exponentiation: 1000\n"
          ]
        }
      ]
    },
    {
      "cell_type": "markdown",
      "metadata": {
        "id": "KEUgG1ujtXgq"
      },
      "source": [
        "## Practical Exercises"
      ]
    },
    {
      "cell_type": "code",
      "execution_count": null,
      "metadata": {
        "colab": {
          "base_uri": "https://localhost:8080/"
        },
        "id": "_51cQyIytXgq",
        "outputId": "0a665e28-ba85-432b-bfa1-db9e295dd00b"
      },
      "source": [
        "# Exercise 1: Temperature Converter\n",
        "def celsius_to_fahrenheit(celsius):\n",
        "    return (celsius * 9/5) + 32\n",
        "\n",
        "# Test the function\n",
        "temp_c = 25\n",
        "temp_f = celsius_to_fahrenheit(temp_c)\n",
        "print(f\"{temp_c}°C is equal to {temp_f}°F\")"
      ],
      "outputs": [
        {
          "output_type": "stream",
          "name": "stdout",
          "text": [
            "25°C is equal to 77.0°F\n"
          ]
        }
      ]
    },
    {
      "cell_type": "code",
      "execution_count": null,
      "metadata": {
        "colab": {
          "base_uri": "https://localhost:8080/"
        },
        "id": "GUjdw9_1tXgr",
        "outputId": "9d08623c-4d3c-441a-e00d-f58ad0ba3384"
      },
      "source": [
        "# Exercise 2: Simple Interest Calculator\n",
        "def calculate_simple_interest(principal, rate, time):\n",
        "    return (principal * rate * time) / 100\n",
        "\n",
        "# Test the function\n",
        "p = 1000  # Principal amount\n",
        "r = 5     # Rate of interest\n",
        "t = 2     # Time in years\n",
        "\n",
        "interest = calculate_simple_interest(p, r, t)\n",
        "print(f\"Simple Interest: ${interest}\")"
      ],
      "outputs": [
        {
          "output_type": "stream",
          "name": "stdout",
          "text": [
            "Simple Interest: $100.0\n"
          ]
        }
      ]
    },
    {
      "cell_type": "markdown",
      "metadata": {
        "id": "_quKrK8etXgr"
      },
      "source": [
        "## MCQ Quiz\n",
        "\n",
        "1. Which of the following is not a valid variable name in Python?\n",
        "   - a) my_var\n",
        "   - b) _variable\n",
        "   - c) 1variable\n",
        "   - d) myVariable\n",
        "\n",
        "2. What is the output of 17 // 5?\n",
        "   - a) 3.4\n",
        "   - b) 3\n",
        "   - c) 2\n",
        "   - d) 3.0\n",
        "\n",
        "3. Which operator is used for exponentiation in Python?\n",
        "   - a) ^\n",
        "   - b) **\n",
        "   - c) //\n",
        "   - d) %%\n",
        "\n",
        "4. What is the type of 5.0?\n",
        "   - a) int\n",
        "   - b) float\n",
        "   - c) double\n",
        "   - d) number\n",
        "\n",
        "5. What will be the value of x after x = 2 + 3 * 4?\n",
        "   - a) 20\n",
        "   - b) 14\n",
        "   - c) 24\n",
        "   - d) 10\n",
        "\n",
        "6. Which of these is a valid way to assign multiple variables?\n",
        "   - a) a, b, c = 1, 2\n",
        "   - b) a, b, c = 1, 2, 3\n",
        "   - c) a, b = 1\n",
        "   - d) a = b = 1, 2, 3\n",
        "\n",
        "7. What is the result of 10 % 3?\n",
        "   - a) 3\n",
        "   - b) 1\n",
        "   - c) 0\n",
        "   - d) 3.33\n",
        "\n",
        "8. Which of these is not a numeric type in Python?\n",
        "   - a) int\n",
        "   - b) float\n",
        "   - c) complex\n",
        "   - d) char\n",
        "\n",
        "9. What is the type of True in Python?\n",
        "   - a) string\n",
        "   - b) boolean\n",
        "   - c) bool\n",
        "   - d) int\n",
        "\n",
        "10. What will be the output of type(\"123\")?\n",
        "    - a) int\n",
        "    - b) float\n",
        "    - c) str\n",
        "    - d) number\n",
        "\n",
        "Answers: 1-c, 2-b, 3-b, 4-b, 5-b, 6-b, 7-b, 8-d, 9-c, 10-c"
      ]
    }
  ],
  "metadata": {
    "kernelspec": {
      "display_name": "Python 3",
      "language": "python",
      "name": "python3"
    },
    "colab": {
      "provenance": [],
      "include_colab_link": true
    }
  },
  "nbformat": 4,
  "nbformat_minor": 0
}
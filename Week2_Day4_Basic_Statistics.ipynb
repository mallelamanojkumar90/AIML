{
  "cells": [
    {
      "cell_type": "markdown",
      "metadata": {
        "id": "view-in-github",
        "colab_type": "text"
      },
      "source": [
        "<a href=\"https://colab.research.google.com/github/mallelamanojkumar90/AIML/blob/main/Week2_Day4_Basic_Statistics.ipynb\" target=\"_parent\"><img src=\"https://colab.research.google.com/assets/colab-badge.svg\" alt=\"Open In Colab\"/></a>"
      ]
    },
    {
      "cell_type": "markdown",
      "metadata": {
        "id": "2oib7-l00rwK"
      },
      "source": [
        "# Week 2, Day 4: Basics of Statistics\n",
        "\n",
        "## Learning Objectives\n",
        "- Understand central tendency measures (Mean, Median, Mode)\n",
        "- Learn dispersion measures (Variance, Standard Deviation)\n",
        "- Master basic statistical calculations\n",
        "- Practice applying statistical concepts to real data\n"
      ]
    },
    {
      "cell_type": "code",
      "execution_count": null,
      "metadata": {
        "id": "QLK99A4A0rwM"
      },
      "source": [
        "# Import required libraries\n",
        "import numpy as np\n",
        "import pandas as pd\n",
        "import matplotlib.pyplot as plt\n",
        "import seaborn as sns\n",
        "from scipy import stats"
      ],
      "outputs": []
    },
    {
      "cell_type": "markdown",
      "metadata": {
        "id": "UO_kY-zQ0rwO"
      },
      "source": [
        "## 1. Measures of Central Tendency"
      ]
    },
    {
      "cell_type": "code",
      "execution_count": null,
      "metadata": {
        "id": "Lp8RtzSj0rwP"
      },
      "source": [
        "# Create sample data\n",
        "data = [15, 18, 21, 24, 27, 27, 30, 33, 36, 39, 39, 42]\n",
        "\n",
        "def calculate_central_tendency(data):\n",
        "    # Mean\n",
        "    mean = np.mean(data)\n",
        "\n",
        "    # Median\n",
        "    median = np.median(data)\n",
        "\n",
        "    # Mode\n",
        "    mode = stats.mode(data)\n",
        "\n",
        "    print(f\"Mean: {mean:.2f}\")\n",
        "    print(f\"Median: {median:.2f}\")\n",
        "    print(f\"Mode: {mode.mode[0]} (frequency: {mode.count[0]})\")\n",
        "\n",
        "    # Visualize the distribution\n",
        "    plt.figure(figsize=(10, 5))\n",
        "    sns.histplot(data, bins=10)\n",
        "    plt.axvline(mean, color='red', linestyle='--', label=f'Mean: {mean:.2f}')\n",
        "    plt.axvline(median, color='green', linestyle='--', label=f'Median: {median:.2f}')\n",
        "    plt.title('Data Distribution with Central Tendency Measures')\n",
        "    plt.legend()\n",
        "    plt.show()\n",
        "\n",
        "calculate_central_tendency(data)"
      ],
      "outputs": []
    },
    {
      "cell_type": "markdown",
      "metadata": {
        "id": "cFg9thOz0rwQ"
      },
      "source": [
        "## 2. Measures of Dispersion"
      ]
    },
    {
      "cell_type": "code",
      "execution_count": null,
      "metadata": {
        "id": "XnwNsqKn0rwR"
      },
      "source": [
        "def calculate_dispersion(data):\n",
        "    # Range\n",
        "    data_range = np.max(data) - np.min(data)\n",
        "\n",
        "    # Variance\n",
        "    variance = np.var(data)\n",
        "\n",
        "    # Standard Deviation\n",
        "    std_dev = np.std(data)\n",
        "\n",
        "    # Quartiles and IQR\n",
        "    q1 = np.percentile(data, 25)\n",
        "    q3 = np.percentile(data, 75)\n",
        "    iqr = q3 - q1\n",
        "\n",
        "    print(f\"Range: {data_range}\")\n",
        "    print(f\"Variance: {variance:.2f}\")\n",
        "    print(f\"Standard Deviation: {std_dev:.2f}\")\n",
        "    print(f\"IQR: {iqr}\")\n",
        "\n",
        "    # Visualize with box plot\n",
        "    plt.figure(figsize=(10, 5))\n",
        "    sns.boxplot(data=data)\n",
        "    plt.title('Box Plot Showing Data Distribution and Outliers')\n",
        "    plt.show()\n",
        "\n",
        "calculate_dispersion(data)"
      ],
      "outputs": []
    },
    {
      "cell_type": "markdown",
      "metadata": {
        "id": "eJ_juPxH0rwS"
      },
      "source": [
        "## 3. Understanding Different Distributions"
      ]
    },
    {
      "cell_type": "code",
      "execution_count": null,
      "metadata": {
        "id": "Wtxx7MVT0rwS"
      },
      "source": [
        "def demonstrate_distributions():\n",
        "    # Generate different distributions\n",
        "    np.random.seed(42)\n",
        "    normal_dist = np.random.normal(loc=0, scale=1, size=1000)\n",
        "    uniform_dist = np.random.uniform(low=-2, high=2, size=1000)\n",
        "    skewed_dist = np.random.exponential(scale=1, size=1000)\n",
        "\n",
        "    # Plot distributions\n",
        "    fig, axes = plt.subplots(3, 1, figsize=(12, 12))\n",
        "\n",
        "    # Normal distribution\n",
        "    sns.histplot(normal_dist, kde=True, ax=axes[0])\n",
        "    axes[0].set_title('Normal Distribution')\n",
        "    axes[0].axvline(np.mean(normal_dist), color='red', linestyle='--', label='Mean')\n",
        "    axes[0].axvline(np.median(normal_dist), color='green', linestyle='--', label='Median')\n",
        "    axes[0].legend()\n",
        "\n",
        "    # Uniform distribution\n",
        "    sns.histplot(uniform_dist, kde=True, ax=axes[1])\n",
        "    axes[1].set_title('Uniform Distribution')\n",
        "    axes[1].axvline(np.mean(uniform_dist), color='red', linestyle='--', label='Mean')\n",
        "    axes[1].axvline(np.median(uniform_dist), color='green', linestyle='--', label='Median')\n",
        "    axes[1].legend()\n",
        "\n",
        "    # Skewed distribution\n",
        "    sns.histplot(skewed_dist, kde=True, ax=axes[2])\n",
        "    axes[2].set_title('Right-Skewed Distribution')\n",
        "    axes[2].axvline(np.mean(skewed_dist), color='red', linestyle='--', label='Mean')\n",
        "    axes[2].axvline(np.median(skewed_dist), color='green', linestyle='--', label='Median')\n",
        "    axes[2].legend()\n",
        "\n",
        "    plt.tight_layout()\n",
        "    plt.show()\n",
        "\n",
        "demonstrate_distributions()"
      ],
      "outputs": []
    },
    {
      "cell_type": "markdown",
      "metadata": {
        "id": "PzLNR9Vh0rwT"
      },
      "source": [
        "## 4. Z-Scores and Standardization"
      ]
    },
    {
      "cell_type": "code",
      "execution_count": null,
      "metadata": {
        "id": "qIwyr51E0rwU"
      },
      "source": [
        "def demonstrate_z_scores():\n",
        "    # Generate sample data\n",
        "    np.random.seed(42)\n",
        "    original_data = np.random.normal(loc=100, scale=15, size=1000)\n",
        "\n",
        "    # Calculate z-scores\n",
        "    z_scores = stats.zscore(original_data)\n",
        "\n",
        "    # Plot original data and z-scores\n",
        "    fig, (ax1, ax2) = plt.subplots(1, 2, figsize=(15, 5))\n",
        "\n",
        "    # Original data\n",
        "    sns.histplot(original_data, kde=True, ax=ax1)\n",
        "    ax1.set_title('Original Data Distribution')\n",
        "    ax1.axvline(np.mean(original_data), color='red', linestyle='--', label='Mean')\n",
        "    ax1.legend()\n",
        "\n",
        "    # Z-scores\n",
        "    sns.histplot(z_scores, kde=True, ax=ax2)\n",
        "    ax2.set_title('Z-Score Distribution')\n",
        "    ax2.axvline(np.mean(z_scores), color='red', linestyle='--', label='Mean')\n",
        "    ax2.legend()\n",
        "\n",
        "    plt.tight_layout()\n",
        "    plt.show()\n",
        "\n",
        "    # Print summary statistics\n",
        "    print(\"Original Data Summary:\")\n",
        "    print(f\"Mean: {np.mean(original_data):.2f}\")\n",
        "    print(f\"Standard Deviation: {np.std(original_data):.2f}\")\n",
        "\n",
        "    print(\"\\nZ-Scores Summary:\")\n",
        "    print(f\"Mean: {np.mean(z_scores):.2f}\")\n",
        "    print(f\"Standard Deviation: {np.std(z_scores):.2f}\")\n",
        "\n",
        "demonstrate_z_scores()"
      ],
      "outputs": []
    },
    {
      "cell_type": "markdown",
      "metadata": {
        "id": "OAHBgFkI0rwU"
      },
      "source": [
        "## Practical Exercises"
      ]
    },
    {
      "cell_type": "code",
      "execution_count": null,
      "metadata": {
        "id": "32_Z5X-J0rwU"
      },
      "source": [
        "# Exercise 1: Student Scores Analysis\n",
        "\n",
        "def analyze_student_scores():\n",
        "    # Generate sample student scores\n",
        "    np.random.seed(42)\n",
        "    math_scores = np.random.normal(75, 15, 100)\n",
        "    english_scores = np.random.normal(70, 12, 100)\n",
        "    science_scores = np.random.normal(80, 10, 100)\n",
        "\n",
        "    # Create DataFrame\n",
        "    scores_df = pd.DataFrame({\n",
        "        'Math': math_scores,\n",
        "        'English': english_scores,\n",
        "        'Science': science_scores\n",
        "    })\n",
        "\n",
        "    # Calculate statistics\n",
        "    print(\"Summary Statistics:\")\n",
        "    print(scores_df.describe())\n",
        "\n",
        "    # Visualize distributions\n",
        "    plt.figure(figsize=(12, 6))\n",
        "    scores_df.boxplot()\n",
        "    plt.title('Score Distributions by Subject')\n",
        "    plt.ylabel('Scores')\n",
        "    plt.show()\n",
        "\n",
        "    # Calculate z-scores for each subject\n",
        "    z_scores = scores_df.apply(stats.zscore)\n",
        "\n",
        "    # Identify outliers (|z| > 2)\n",
        "    outliers = (abs(z_scores) > 2).sum()\n",
        "    print(\"\\nNumber of outliers per subject (|z| > 2):\")\n",
        "    print(outliers)\n",
        "\n",
        "analyze_student_scores()"
      ],
      "outputs": []
    },
    {
      "cell_type": "code",
      "execution_count": null,
      "metadata": {
        "id": "-080-vWA0rwV"
      },
      "source": [
        "# Exercise 2: Comparing Distributions\n",
        "\n",
        "def compare_distributions():\n",
        "    # Generate three different distributions\n",
        "    np.random.seed(42)\n",
        "    group_a = np.random.normal(70, 10, 100)  # Normal\n",
        "    group_b = np.random.exponential(10, 100)  # Right-skewed\n",
        "    group_c = np.concatenate([np.random.normal(60, 5, 50), np.random.normal(80, 5, 50)])  # Bimodal\n",
        "\n",
        "    # Calculate statistics\n",
        "    def print_stats(data, name):\n",
        "        print(f\"\\n{name} Statistics:\")\n",
        "        print(f\"Mean: {np.mean(data):.2f}\")\n",
        "        print(f\"Median: {np.median(data):.2f}\")\n",
        "        print(f\"Std Dev: {np.std(data):.2f}\")\n",
        "        print(f\"Skewness: {stats.skew(data):.2f}\")\n",
        "\n",
        "    print_stats(group_a, \"Group A (Normal)\")\n",
        "    print_stats(group_b, \"Group B (Right-skewed)\")\n",
        "    print_stats(group_c, \"Group C (Bimodal)\")\n",
        "\n",
        "    # Visualize distributions\n",
        "    fig, (ax1, ax2, ax3) = plt.subplots(1, 3, figsize=(15, 5))\n",
        "\n",
        "    sns.histplot(group_a, kde=True, ax=ax1)\n",
        "    ax1.set_title('Group A (Normal)')\n",
        "\n",
        "    sns.histplot(group_b, kde=True, ax=ax2)\n",
        "    ax2.set_title('Group B (Right-skewed)')\n",
        "\n",
        "    sns.histplot(group_c, kde=True, ax=ax3)\n",
        "    ax3.set_title('Group C (Bimodal)')\n",
        "\n",
        "    plt.tight_layout()\n",
        "    plt.show()\n",
        "\n",
        "compare_distributions()"
      ],
      "outputs": []
    },
    {
      "cell_type": "markdown",
      "metadata": {
        "id": "6Rvv04LQ0rwV"
      },
      "source": [
        "## MCQ Quiz\n",
        "\n",
        "1. Which measure of central tendency is most affected by outliers?\n",
        "   - a) Mode\n",
        "   - b) Median\n",
        "   - c) Mean\n",
        "   - d) Range\n",
        "\n",
        "2. What is the standard deviation a measure of?\n",
        "   - a) Central tendency\n",
        "   - b) Variability\n",
        "   - c) Position\n",
        "   - d) Shape\n",
        "\n",
        "3. In a normal distribution, what percentage of data falls within one standard deviation of the mean?\n",
        "   - a) 50%\n",
        "   - b) 68%\n",
        "   - c) 95%\n",
        "   - d) 99%\n",
        "\n",
        "4. What is the relationship between variance and standard deviation?\n",
        "   - a) They are the same\n",
        "   - b) Standard deviation is the square of variance\n",
        "   - c) Standard deviation is the square root of variance\n",
        "   - d) There is no relationship\n",
        "\n",
        "5. What does a z-score of 0 indicate?\n",
        "   - a) The value equals the mean\n",
        "   - b) The value is an outlier\n",
        "   - c) The value is negative\n",
        "   - d) The value is the median\n",
        "\n",
        "6. Which of these is not a measure of spread?\n",
        "   - a) Range\n",
        "   - b) Variance\n",
        "   - c) Mode\n",
        "   - d) IQR\n",
        "\n",
        "7. What is the IQR (Interquartile Range)?\n",
        "   - a) The difference between Q1 and Q3\n",
        "   - b) The difference between the maximum and minimum\n",
        "   - c) The difference between the mean and median\n",
        "   - d) The range of the middle 50% of data\n",
        "\n",
        "8. In a right-skewed distribution, which is typically larger?\n",
        "   - a) Mean\n",
        "   - b) Median\n",
        "   - c) Mode\n",
        "   - d) They are all equal\n",
        "\n",
        "9. What is the primary purpose of standardization?\n",
        "   - a) To make data normally distributed\n",
        "   - b) To remove outliers\n",
        "   - c) To compare different scales\n",
        "   - d) To calculate the mean\n",
        "\n",
        "10. Which measure is most resistant to outliers?\n",
        "    - a) Mean\n",
        "    - b) Median\n",
        "    - c) Range\n",
        "    - d) Variance\n",
        "\n",
        "Answers: 1-c, 2-b, 3-b, 4-c, 5-a, 6-c, 7-a, 8-a, 9-c, 10-b"
      ]
    }
  ],
  "metadata": {
    "kernelspec": {
      "display_name": "Python 3",
      "language": "python",
      "name": "python3"
    },
    "colab": {
      "provenance": [],
      "include_colab_link": true
    }
  },
  "nbformat": 4,
  "nbformat_minor": 0
}
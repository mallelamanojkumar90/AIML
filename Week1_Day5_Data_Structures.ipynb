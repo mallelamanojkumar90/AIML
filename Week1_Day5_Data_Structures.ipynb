{
  "cells": [
    {
      "cell_type": "markdown",
      "metadata": {
        "id": "view-in-github",
        "colab_type": "text"
      },
      "source": [
        "<a href=\"https://colab.research.google.com/github/mallelamanojkumar90/AIML/blob/main/Week1_Day5_Data_Structures.ipynb\" target=\"_parent\"><img src=\"https://colab.research.google.com/assets/colab-badge.svg\" alt=\"Open In Colab\"/></a>"
      ]
    },
    {
      "cell_type": "markdown",
      "metadata": {
        "id": "ZhP6NoD07SwT"
      },
      "source": [
        "# Week 1, Day 5: Data Structures in Python\n",
        "\n",
        "## Learning Objectives\n",
        "- Master Python Lists and their operations\n",
        "- Understand Tuples and their immutability\n",
        "- Learn Dictionary operations and use cases\n",
        "- Practice working with different data structures\n"
      ]
    },
    {
      "cell_type": "markdown",
      "metadata": {
        "id": "nLTt7ZIc7Swf"
      },
      "source": [
        "## 1. Lists\n",
        "\n",
        "### List Operations\n",
        "- Creating lists\n",
        "- Adding and removing elements\n",
        "- List slicing\n",
        "- List methods"
      ]
    },
    {
      "cell_type": "code",
      "execution_count": null,
      "metadata": {
        "id": "9fcN5J797Swk"
      },
      "source": [
        "# List operations\n",
        "# Creating lists\n",
        "numbers = [1, 2, 3, 4, 5]\n",
        "fruits = ['apple', 'banana', 'orange']\n",
        "mixed = [1, 'hello', 3.14, True]\n",
        "\n",
        "# List methods\n",
        "print(\"Original list:\", numbers)\n",
        "\n",
        "numbers.append(6)\n",
        "print(\"After append:\", numbers)\n",
        "\n",
        "numbers.insert(0, 0)\n",
        "print(\"After insert:\", numbers)\n",
        "\n",
        "numbers.remove(3)\n",
        "print(\"After remove:\", numbers)\n",
        "\n",
        "# List slicing\n",
        "print(\"Slicing [1:4]:\", numbers[1:4])\n",
        "print(\"Reverse list:\", numbers[::-1])"
      ],
      "outputs": []
    },
    {
      "cell_type": "markdown",
      "metadata": {
        "id": "TGw5LMA57Swt"
      },
      "source": [
        "## 2. Tuples\n",
        "\n",
        "### Tuple Features\n",
        "- Creating tuples\n",
        "- Immutability\n",
        "- Tuple methods\n",
        "- Use cases"
      ]
    },
    {
      "cell_type": "code",
      "execution_count": null,
      "metadata": {
        "id": "0FCFt1lz7Swu"
      },
      "source": [
        "# Tuple operations\n",
        "# Creating tuples\n",
        "coordinates = (10, 20)\n",
        "person = ('John', 25, 'New York')\n",
        "single_element = (1,)  # Note the comma\n",
        "\n",
        "# Tuple methods\n",
        "print(\"Coordinates:\", coordinates)\n",
        "print(\"Index of 20:\", coordinates.index(20))\n",
        "print(\"Count of 10:\", coordinates.count(10))\n",
        "\n",
        "# Tuple unpacking\n",
        "name, age, city = person\n",
        "print(f\"Name: {name}, Age: {age}, City: {city}\")\n",
        "\n",
        "# Try to modify tuple (will raise error)\n",
        "try:\n",
        "    coordinates[0] = 30\n",
        "except TypeError as e:\n",
        "    print(\"Error:\", e)"
      ],
      "outputs": []
    },
    {
      "cell_type": "markdown",
      "metadata": {
        "id": "AAouQoqa7Sww"
      },
      "source": [
        "## 3. Dictionaries\n",
        "\n",
        "### Dictionary Operations\n",
        "- Creating dictionaries\n",
        "- Adding and removing items\n",
        "- Dictionary methods\n",
        "- Nested dictionaries"
      ]
    },
    {
      "cell_type": "code",
      "execution_count": null,
      "metadata": {
        "id": "R08LNCH57Swx"
      },
      "source": [
        "# Dictionary operations\n",
        "# Creating dictionaries\n",
        "student = {\n",
        "    'name': 'Alice',\n",
        "    'age': 20,\n",
        "    'grades': {'math': 90, 'science': 85, 'history': 88}\n",
        "}\n",
        "\n",
        "# Dictionary methods\n",
        "print(\"Original dictionary:\", student)\n",
        "\n",
        "# Adding new key-value pair\n",
        "student['email'] = 'alice@example.com'\n",
        "print(\"\\nAfter adding email:\", student)\n",
        "\n",
        "# Accessing nested dictionary\n",
        "print(\"\\nMath grade:\", student['grades']['math'])\n",
        "\n",
        "# Dictionary methods\n",
        "print(\"\\nKeys:\", student.keys())\n",
        "print(\"Values:\", student.values())\n",
        "print(\"Items:\", student.items())\n",
        "\n",
        "# Remove a key\n",
        "removed_age = student.pop('age')\n",
        "print(\"\\nAfter removing age:\", student)\n",
        "print(\"Removed age value:\", removed_age)"
      ],
      "outputs": []
    },
    {
      "cell_type": "markdown",
      "metadata": {
        "id": "I2KotY1f7Sw3"
      },
      "source": [
        "## Practical Exercises"
      ]
    },
    {
      "cell_type": "code",
      "execution_count": null,
      "metadata": {
        "id": "BycehBXO7Sw4"
      },
      "source": [
        "# Exercise 1: Contact Manager\n",
        "def contact_manager():\n",
        "    contacts = {}\n",
        "\n",
        "    def add_contact(name, phone, email):\n",
        "        contacts[name] = {'phone': phone, 'email': email}\n",
        "        return f\"Added contact: {name}\"\n",
        "\n",
        "    def get_contact(name):\n",
        "        return contacts.get(name, f\"Contact {name} not found\")\n",
        "\n",
        "    def delete_contact(name):\n",
        "        if name in contacts:\n",
        "            del contacts[name]\n",
        "            return f\"Deleted contact: {name}\"\n",
        "        return f\"Contact {name} not found\"\n",
        "\n",
        "    # Test the contact manager\n",
        "    print(add_contact(\"John\", \"123-456-7890\", \"john@example.com\"))\n",
        "    print(add_contact(\"Alice\", \"098-765-4321\", \"alice@example.com\"))\n",
        "    print(\"\\nJohn's details:\", get_contact(\"John\"))\n",
        "    print(delete_contact(\"John\"))\n",
        "    print(\"After deletion:\", get_contact(\"John\"))\n",
        "\n",
        "# Run the exercise\n",
        "contact_manager()"
      ],
      "outputs": []
    },
    {
      "cell_type": "code",
      "execution_count": null,
      "metadata": {
        "id": "gp8eaHW27Sw5"
      },
      "source": [
        "# Exercise 2: Data Structure Conversion\n",
        "def data_converter():\n",
        "    # Start with a list of tuples\n",
        "    data = [(\"John\", 25), (\"Alice\", 22), (\"Bob\", 28)]\n",
        "\n",
        "    # Convert to dictionary\n",
        "    dict_data = dict(data)\n",
        "    print(\"Dictionary:\", dict_data)\n",
        "\n",
        "    # Convert dictionary keys and values to lists\n",
        "    names = list(dict_data.keys())\n",
        "    ages = list(dict_data.values())\n",
        "    print(\"Names list:\", names)\n",
        "    print(\"Ages list:\", ages)\n",
        "\n",
        "    # Create a new dictionary with age groups\n",
        "    age_groups = {}\n",
        "    for name, age in dict_data.items():\n",
        "        group = \"20-25\" if age <= 25 else \"26-30\"\n",
        "        if group not in age_groups:\n",
        "            age_groups[group] = []\n",
        "        age_groups[group].append(name)\n",
        "\n",
        "    print(\"Age groups:\", age_groups)\n",
        "\n",
        "# Run the exercise\n",
        "data_converter()"
      ],
      "outputs": []
    },
    {
      "cell_type": "markdown",
      "metadata": {
        "id": "lA5PxNBb7Sw6"
      },
      "source": [
        "## MCQ Quiz\n",
        "\n",
        "1. Which of these is a mutable data structure?\n",
        "   - a) String\n",
        "   - b) Tuple\n",
        "   - c) List\n",
        "   - d) Integer\n",
        "\n",
        "2. How do you create an empty dictionary?\n",
        "   - a) dict()\n",
        "   - b) {}\n",
        "   - c) Both a and b\n",
        "   - d) []\n",
        "\n",
        "3. What happens when you try to access a key that doesn't exist in a dictionary?\n",
        "   - a) Returns None\n",
        "   - b) Raises KeyError\n",
        "   - c) Returns False\n",
        "   - d) Creates the key\n",
        "\n",
        "4. Which method adds an element to the end of a list?\n",
        "   - a) add()\n",
        "   - b) append()\n",
        "   - c) extend()\n",
        "   - d) insert()\n",
        "\n",
        "5. What is the correct way to create a tuple with a single element?\n",
        "   - a) (1)\n",
        "   - b) (1,)\n",
        "   - c) tuple(1)\n",
        "   - d) [1]\n",
        "\n",
        "6. Which method removes and returns an item from a dictionary?\n",
        "   - a) remove()\n",
        "   - b) delete()\n",
        "   - c) pop()\n",
        "   - d) del()\n",
        "\n",
        "7. What is the output of list(\"Hello\")?\n",
        "   - a) [\"Hello\"]\n",
        "   - b) ['H', 'e', 'l', 'l', 'o']\n",
        "   - c) \"Hello\"\n",
        "   - d) Error\n",
        "\n",
        "8. How do you get all keys from a dictionary?\n",
        "   - a) dict.keys()\n",
        "   - b) dict.getkeys()\n",
        "   - c) dict.key()\n",
        "   - d) dict.get_keys()\n",
        "\n",
        "9. What is the difference between list and tuple?\n",
        "   - a) Lists are ordered, tuples are not\n",
        "   - b) Tuples are mutable, lists are not\n",
        "   - c) Lists are mutable, tuples are not\n",
        "   - d) No difference\n",
        "\n",
        "10. Which operation is not valid for tuples?\n",
        "    - a) len(tuple)\n",
        "    - b) tuple[0]\n",
        "    - c) tuple.append()\n",
        "    - d) tuple + tuple\n",
        "\n",
        "Answers: 1-c, 2-c, 3-b, 4-b, 5-b, 6-c, 7-b, 8-a, 9-c, 10-c"
      ]
    }
  ],
  "metadata": {
    "kernelspec": {
      "display_name": "Python 3",
      "language": "python",
      "name": "python3"
    },
    "colab": {
      "provenance": [],
      "include_colab_link": true
    }
  },
  "nbformat": 4,
  "nbformat_minor": 0
}